{
 "cells": [
  {
   "cell_type": "code",
   "execution_count": 1,
   "metadata": {},
   "outputs": [],
   "source": [
    "import numpy as np\n",
    "import matplotlib.pyplot as plt\n",
    "import pandas as pd\n",
    "import statistics"
   ]
  },
  {
   "cell_type": "code",
   "execution_count": 2,
   "metadata": {},
   "outputs": [
    {
     "name": "stdout",
     "output_type": "stream",
     "text": [
      "BRC\n",
      "Mean: 0.0891\n",
      "Std-dev: 0.0005\n",
      "GRU\n",
      "Mean: 0.0006\n",
      "Std-dev: 0.0000\n",
      "Ladder\n",
      "Mean: 0.0133\n",
      "Std-dev: 0.0121\n",
      "Laguerre\n",
      "Mean: 0.0185\n",
      "Std-dev: 0.0024\n",
      "LMU\n",
      "Mean: 0.0074\n",
      "Std-dev: 0.0020\n",
      "LSTM\n",
      "Mean: 0.0008\n",
      "Std-dev: 0.0003\n",
      "nBRC\n",
      "Mean: 0.0067\n",
      "Std-dev: 0.0065\n"
     ]
    }
   ],
   "source": [
    "architectures = ['BRC', 'GRU', 'Ladder', 'Laguerre', 'LMU', 'LSTM', 'nBRC']\n",
    "\n",
    "for architecture in architectures:\n",
    "\n",
    "    k_fold_result = pd.read_csv(f'{architecture}_results_k-Folds.csv')\n",
    "    \n",
    "    mean = k_fold_result['MAE'].mean() \n",
    "    std = k_fold_result['MAE'].std()\n",
    "    \n",
    "    print(f'{architecture}')\n",
    "    print(f\"Mean: {mean:.4f}\")\n",
    "    print(f\"Std-dev: {std:.4f}\")"
   ]
  },
  {
   "cell_type": "code",
   "execution_count": null,
   "metadata": {},
   "outputs": [],
   "source": []
  }
 ],
 "metadata": {
  "kernelspec": {
   "display_name": "Python 3",
   "language": "python",
   "name": "python3"
  },
  "language_info": {
   "codemirror_mode": {
    "name": "ipython",
    "version": 3
   },
   "file_extension": ".py",
   "mimetype": "text/x-python",
   "name": "python",
   "nbconvert_exporter": "python",
   "pygments_lexer": "ipython3",
   "version": "3.7.7"
  }
 },
 "nbformat": 4,
 "nbformat_minor": 4
}
