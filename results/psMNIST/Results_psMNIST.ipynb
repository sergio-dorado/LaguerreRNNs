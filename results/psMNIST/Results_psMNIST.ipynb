{
 "cells": [
  {
   "cell_type": "code",
   "execution_count": 6,
   "metadata": {},
   "outputs": [],
   "source": [
    "import numpy as np\n",
    "import matplotlib.pyplot as plt\n",
    "import pandas as pd"
   ]
  },
  {
   "cell_type": "code",
   "execution_count": 12,
   "metadata": {},
   "outputs": [
    {
     "data": {
      "text/plain": [
       "0.9767000079154968"
      ]
     },
     "execution_count": 12,
     "metadata": {},
     "output_type": "execute_result"
    }
   ],
   "source": [
    "results['Accuracy'][0]"
   ]
  },
  {
   "cell_type": "code",
   "execution_count": 15,
   "metadata": {},
   "outputs": [
    {
     "name": "stdout",
     "output_type": "stream",
     "text": [
      "Ladder\n",
      "Accuracy: 0.9767\n",
      "\n",
      "Laguerre\n",
      "Accuracy: 0.9650\n",
      "\n",
      "LMU\n",
      "Accuracy: 0.9584\n",
      "\n",
      "BRC\n",
      "Accuracy: 0.6485\n",
      "\n",
      "nBRC\n",
      "Accuracy: 0.9280\n",
      "\n",
      "GRU\n",
      "Accuracy: 0.9167\n",
      "\n",
      "LSTM\n",
      "Accuracy: 0.9105\n",
      "\n"
     ]
    }
   ],
   "source": [
    "models = ['Ladder', 'Laguerre', 'LMU', 'BRC', 'nBRC', 'GRU', 'LSTM']\n",
    "\n",
    "for model in models:\n",
    "    results = pd.read_csv(f\"{model}_results.csv\")\n",
    "    accuracy = results['Accuracy'][0]\n",
    "    print(f\"{model}\\nAccuracy: {accuracy:.4f}\\n\")"
   ]
  },
  {
   "cell_type": "code",
   "execution_count": 2,
   "metadata": {},
   "outputs": [
    {
     "name": "stdout",
     "output_type": "stream",
     "text": [
      "GRU\n",
      "Mean: 0.9586\n",
      "Std: 0.0295\n",
      "\n",
      "Ladder\n",
      "Mean: 0.9953\n",
      "Std: 0.0090\n",
      "\n",
      "Laguerre\n",
      "Mean: 0.9923\n",
      "Std: 0.0144\n",
      "\n",
      "LSTM\n",
      "Mean: 0.9675\n",
      "Std: 0.0330\n",
      "\n"
     ]
    }
   ],
   "source": [
    "models = ['GRU', 'Ladder', 'Laguerre', 'LSTM']\n",
    "\n",
    "for model in models:\n",
    "    k_fold_results = pd.read_csv(f\"{model}_results_k-Folds.csv\")\n",
    "    mean = k_fold_results['F1'].mean()\n",
    "    std = k_fold_results['F1'].std()\n",
    "    print(f\"{model}\\nMean: {mean:.4f}\\nStd: {std:.4f}\\n\")"
   ]
  }
 ],
 "metadata": {
  "kernelspec": {
   "display_name": "Python 3",
   "language": "python",
   "name": "python3"
  },
  "language_info": {
   "codemirror_mode": {
    "name": "ipython",
    "version": 3
   },
   "file_extension": ".py",
   "mimetype": "text/x-python",
   "name": "python",
   "nbconvert_exporter": "python",
   "pygments_lexer": "ipython3",
   "version": "3.7.7"
  }
 },
 "nbformat": 4,
 "nbformat_minor": 4
}
