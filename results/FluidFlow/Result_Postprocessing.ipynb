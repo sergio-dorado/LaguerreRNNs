{
 "cells": [
  {
   "cell_type": "code",
   "execution_count": 10,
   "metadata": {},
   "outputs": [],
   "source": [
    "import numpy as np\n",
    "import matplotlib.pyplot as plt\n",
    "import pandas as pd\n",
    "import statistics"
   ]
  },
  {
   "cell_type": "code",
   "execution_count": 12,
   "metadata": {},
   "outputs": [
    {
     "name": "stdout",
     "output_type": "stream",
     "text": [
      "BRC\n",
      "Mean: 0.0040\n",
      "Std-dev: 0.0009\n",
      "GRU\n",
      "Mean: 0.0004\n",
      "Std-dev: 0.0000\n",
      "Ladder\n",
      "Mean: 0.0206\n",
      "Std-dev: 0.0095\n",
      "Laguerre\n",
      "Mean: 0.0037\n",
      "Std-dev: 0.0001\n",
      "LMU\n",
      "Mean: 0.0066\n",
      "Std-dev: 0.0003\n",
      "LSTM\n",
      "Mean: 0.0004\n",
      "Std-dev: 0.0000\n",
      "nBRC\n",
      "Mean: 0.0014\n",
      "Std-dev: 0.0005\n"
     ]
    }
   ],
   "source": [
    "architectures = ['BRC', 'GRU', 'Ladder', 'Laguerre', 'LMU', 'LSTM', 'nBRC']\n",
    "\n",
    "for architecture in architectures:\n",
    "\n",
    "    k_fold_result = pd.read_csv(f'{architecture}_results_k-Folds.csv')\n",
    "    \n",
    "    mean = k_fold_result['MAE'].mean() \n",
    "    std = k_fold_result['MAE'].std()\n",
    "    \n",
    "    print(f'{architecture}')\n",
    "    print(f\"Mean: {mean:.4f}\")\n",
    "    print(f\"Std-dev: {std:.4f}\")"
   ]
  }
 ],
 "metadata": {
  "kernelspec": {
   "display_name": "Python 3",
   "language": "python",
   "name": "python3"
  },
  "language_info": {
   "codemirror_mode": {
    "name": "ipython",
    "version": 3
   },
   "file_extension": ".py",
   "mimetype": "text/x-python",
   "name": "python",
   "nbconvert_exporter": "python",
   "pygments_lexer": "ipython3",
   "version": "3.7.7"
  }
 },
 "nbformat": 4,
 "nbformat_minor": 4
}
