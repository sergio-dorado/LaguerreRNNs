{
 "cells": [
  {
   "cell_type": "code",
   "execution_count": 18,
   "metadata": {},
   "outputs": [],
   "source": [
    "import numpy as np\n",
    "import matplotlib.pyplot as plt\n",
    "\n",
    "import tensorflow as tf\n",
    "\n",
    "from tensorflow.keras.models import Sequential\n",
    "from tensorflow.keras.layers import LSTM, GRU\n",
    "from tensorflow.keras.callbacks import EarlyStopping, ModelCheckpoint\n",
    "from tensorflow.keras.utils import to_categorical\n",
    "\n",
    "from sklearn.datasets import make_classification\n",
    "from sklearn.model_selection import train_test_split\n",
    "from sklearn.metrics import roc_curve"
   ]
  },
  {
   "cell_type": "markdown",
   "metadata": {},
   "source": [
    "### Creating a synthetic dataset for classification"
   ]
  },
  {
   "cell_type": "code",
   "execution_count": 51,
   "metadata": {},
   "outputs": [
    {
     "name": "stdout",
     "output_type": "stream",
     "text": [
      "X_train: (7000, 500, 1) - y_train: (7000,)\n",
      "X_test: (3000, 500, 1) - y_test: (3000,)\n"
     ]
    }
   ],
   "source": [
    "X, y = make_classification(n_samples = 10000, n_features = 500)\n",
    "X = np.reshape(X, [X.shape[0], X.shape[1], 1])\n",
    "\n",
    "X_train, X_test, y_train, y_test = train_test_split(X, y, test_size=0.3)\n",
    "\n",
    "print(f\"X_train: {X_train.shape} - y_train: {y_train.shape}\")\n",
    "print(f\"X_test: {X_test.shape} - y_test: {y_test.shape}\")"
   ]
  },
  {
   "cell_type": "markdown",
   "metadata": {},
   "source": [
    "### Defining LSTM and GRU models"
   ]
  },
  {
   "cell_type": "code",
   "execution_count": 52,
   "metadata": {},
   "outputs": [
    {
     "name": "stdout",
     "output_type": "stream",
     "text": [
      "Model: \"sequential_12\"\n",
      "_________________________________________________________________\n",
      "Layer (type)                 Output Shape              Param #   \n",
      "=================================================================\n",
      "lstm_9 (LSTM)                (None, 100)               40800     \n",
      "_________________________________________________________________\n",
      "dense_10 (Dense)             (None, 2)                 202       \n",
      "=================================================================\n",
      "Total params: 41,002\n",
      "Trainable params: 41,002\n",
      "Non-trainable params: 0\n",
      "_________________________________________________________________\n",
      "Model: \"sequential_13\"\n",
      "_________________________________________________________________\n",
      "Layer (type)                 Output Shape              Param #   \n",
      "=================================================================\n",
      "gru_1 (GRU)                  (None, 100)               30600     \n",
      "_________________________________________________________________\n",
      "dense_11 (Dense)             (None, 2)                 202       \n",
      "=================================================================\n",
      "Total params: 30,802\n",
      "Trainable params: 30,802\n",
      "Non-trainable params: 0\n",
      "_________________________________________________________________\n"
     ]
    }
   ],
   "source": [
    "seed = 0\n",
    "tf.random.set_random_seed(seed)\n",
    "np.random.seed(seed)\n",
    "\n",
    "#####################################\n",
    "####### DEFINING LSTM MODEL #########\n",
    "#####################################\n",
    "\n",
    "length = X_train.shape[1]\n",
    "n_features = X_train.shape[-1]\n",
    "n_classes = to_categorical(y_train).shape[-1]\n",
    "\n",
    "model_lstm = Sequential()\n",
    "\n",
    "model_lstm.add(LSTM(units = 100, \n",
    "              input_shape = (length, n_features), return_sequences = False))\n",
    "model_lstm.add(Dense(n_classes, activation = \"softmax\"))\n",
    "\n",
    "model_lstm.compile(optimizer = \"adam\", loss = \"categorical_crossentropy\", metrics = [\"accuracy\"])\n",
    "model_lstm.summary()\n",
    "\n",
    "#####################################\n",
    "######## DEFINING GRU MODEL #########\n",
    "#####################################\n",
    "\n",
    "seed = 0\n",
    "tf.random.set_random_seed(seed)\n",
    "np.random.seed(seed)\n",
    "\n",
    "model_gru = Sequential()\n",
    "\n",
    "model_gru.add(GRU(units = 100, \n",
    "              input_shape = (length, n_features), return_sequences = False))\n",
    "model_gru.add(Dense(n_classes, activation = \"softmax\"))\n",
    "\n",
    "model_gru.compile(optimizer = \"adam\", loss = \"categorical_crossentropy\", metrics = [\"accuracy\"])\n",
    "model_gru.summary()"
   ]
  },
  {
   "cell_type": "markdown",
   "metadata": {},
   "source": [
    "### Training LSTM model and evaluating performance"
   ]
  },
  {
   "cell_type": "code",
   "execution_count": 53,
   "metadata": {},
   "outputs": [
    {
     "name": "stdout",
     "output_type": "stream",
     "text": [
      "Train on 7000 samples\n",
      "Epoch 1/10\n",
      "7000/7000 [==============================] - 49s 7ms/sample - loss: 0.6927 - acc: 0.5063\n",
      "Epoch 2/10\n",
      "7000/7000 [==============================] - 45s 6ms/sample - loss: 0.6754 - acc: 0.5771\n",
      "Epoch 3/10\n",
      "7000/7000 [==============================] - 49s 7ms/sample - loss: 0.6598 - acc: 0.6063\n",
      "Epoch 4/10\n",
      "7000/7000 [==============================] - 54s 8ms/sample - loss: 0.6524 - acc: 0.6201\n",
      "Epoch 5/10\n",
      "7000/7000 [==============================] - 43s 6ms/sample - loss: 0.6480 - acc: 0.6254\n",
      "Epoch 6/10\n",
      "7000/7000 [==============================] - 41s 6ms/sample - loss: 0.6449 - acc: 0.6291\n",
      "Epoch 7/10\n",
      "7000/7000 [==============================] - 41s 6ms/sample - loss: 0.6403 - acc: 0.6310\n",
      "Epoch 8/10\n",
      "7000/7000 [==============================] - 39s 6ms/sample - loss: 0.6402 - acc: 0.6327\n",
      "Epoch 9/10\n",
      "7000/7000 [==============================] - 39s 6ms/sample - loss: 0.6335 - acc: 0.6413\n",
      "Epoch 10/10\n",
      "7000/7000 [==============================] - 40s 6ms/sample - loss: 0.6323 - acc: 0.6426\n"
     ]
    }
   ],
   "source": [
    "seed = 0\n",
    "tf.random.set_random_seed(seed)\n",
    "np.random.seed(seed)\n",
    "\n",
    "fpr = {'lstm' : None, 'gru' : None}\n",
    "tpr = {'lstm' : None, 'gru' : None}\n",
    "\n",
    "hist = model_lstm.fit(X_train,\n",
    "                   to_categorical(y_train),\n",
    "                   epochs = 10,\n",
    "                   batch_size = 100)\n",
    "\n",
    "y_logits = model_lstm.predict(X_test)\n",
    "\n",
    "# Computing scores for the positive class only (taking position '1' as the positive class)\n",
    "y_scores = y_logits[:,1]\n",
    "fpr['lstm'], tpr['lstm'], _ = roc_curve(y_test, y_scores)"
   ]
  },
  {
   "cell_type": "code",
   "execution_count": 49,
   "metadata": {},
   "outputs": [
    {
     "name": "stdout",
     "output_type": "stream",
     "text": [
      "Train on 700 samples\n",
      "Epoch 1/10\n",
      "700/700 [==============================] - 4s 5ms/sample - loss: 0.6915 - acc: 0.5300\n",
      "Epoch 2/10\n",
      "700/700 [==============================] - 3s 5ms/sample - loss: 0.6914 - acc: 0.5200\n",
      "Epoch 3/10\n",
      "700/700 [==============================] - 3s 5ms/sample - loss: 0.6911 - acc: 0.5243\n",
      "Epoch 4/10\n",
      "700/700 [==============================] - 3s 5ms/sample - loss: 0.6911 - acc: 0.5300\n",
      "Epoch 5/10\n",
      "700/700 [==============================] - 3s 5ms/sample - loss: 0.6906 - acc: 0.5300\n",
      "Epoch 6/10\n",
      "700/700 [==============================] - 3s 5ms/sample - loss: 0.6902 - acc: 0.5271\n",
      "Epoch 7/10\n",
      "700/700 [==============================] - 3s 5ms/sample - loss: 0.6901 - acc: 0.5229\n",
      "Epoch 8/10\n",
      "700/700 [==============================] - 3s 5ms/sample - loss: 0.6898 - acc: 0.5329\n",
      "Epoch 9/10\n",
      "700/700 [==============================] - 3s 5ms/sample - loss: 0.6897 - acc: 0.5157\n",
      "Epoch 10/10\n",
      "700/700 [==============================] - 3s 5ms/sample - loss: 0.6886 - acc: 0.5343\n"
     ]
    }
   ],
   "source": [
    "seed = 0\n",
    "tf.random.set_random_seed(seed)\n",
    "np.random.seed(seed)\n",
    "\n",
    "hist = model_gru.fit(X_train,\n",
    "                   to_categorical(y_train),\n",
    "                   epochs = 10,\n",
    "                   batch_size = 100)\n",
    "\n",
    "y_logits = model_gru.predict(X_test)\n",
    "\n",
    "# Computing scores for the positive class only (taking position '1' as the positive class)\n",
    "y_scores = y_logits[:,1]\n",
    "fpr['gru'], tpr['gru'], _ = roc_curve(y_test, y_scores)"
   ]
  },
  {
   "cell_type": "code",
   "execution_count": 50,
   "metadata": {},
   "outputs": [
    {
     "data": {
      "text/plain": [
       "<matplotlib.legend.Legend at 0x7ff12d68c850>"
      ]
     },
     "execution_count": 50,
     "metadata": {},
     "output_type": "execute_result"
    },
    {
     "data": {
      "image/png": "[encoded data removed]",
      "text/plain": [
       "<Figure size 432x288 with 1 Axes>"
      ]
     },
     "metadata": {
      "needs_background": "light"
     },
     "output_type": "display_data"
    }
   ],
   "source": [
    "plt.plot(fpr['lstm'], tpr['lstm'], label = \"LSTM\")\n",
    "plt.plot(fpr['gru'], tpr['gru'], label = \"GRU\")\n",
    "plt.plot([0, 1], [0, 1], color='navy', lw = 2, linestyle = '--')\n",
    "\n",
    "plt.legend()"
   ]
  }
 ],
 "metadata": {
  "kernelspec": {
   "display_name": "Python 3",
   "language": "python",
   "name": "python3"
  },
  "language_info": {
   "codemirror_mode": {
    "name": "ipython",
    "version": 3
   },
   "file_extension": ".py",
   "mimetype": "text/x-python",
   "name": "python",
   "nbconvert_exporter": "python",
   "pygments_lexer": "ipython3",
   "version": "3.7.7"
  }
 },
 "nbformat": 4,
 "nbformat_minor": 4
}
