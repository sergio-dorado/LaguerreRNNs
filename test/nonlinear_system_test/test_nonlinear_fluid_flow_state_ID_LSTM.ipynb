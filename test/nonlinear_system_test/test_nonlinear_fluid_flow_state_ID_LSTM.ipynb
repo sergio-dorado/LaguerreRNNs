{
 "cells": [
  {
   "cell_type": "markdown",
   "metadata": {},
   "source": [
    "System Identification with LSTM\n",
    "================================="
   ]
  },
  {
   "cell_type": "code",
   "execution_count": 78,
   "metadata": {},
   "outputs": [],
   "source": [
    "import numpy as np\n",
    "import os\n",
    "import matplotlib.pyplot as plt\n",
    "\n",
    "from scipy.integrate import odeint\n",
    "\n",
    "import random\n",
    "from sklearn.model_selection import train_test_split"
   ]
  },
  {
   "cell_type": "markdown",
   "metadata": {},
   "source": [
    "The next cell defines the `pend` function that contains the system of nonlinear differential equations representing the pendulum dynamics."
   ]
  },
  {
   "cell_type": "code",
   "execution_count": 87,
   "metadata": {},
   "outputs": [],
   "source": [
    "def fluid_flow(x, t, u, mu, omega, A, l):\n",
    "    x1, x2, x3 = x \n",
    "    dxdt = [mu*x1 - omega*x1 + A*x1*x3 + u,\n",
    "           omega*x1 - omega*x2 + A*x2*x3,\n",
    "           -l*(x3 - x1**2 - x2**2)]\n",
    "    return dxdt"
   ]
  },
  {
   "cell_type": "markdown",
   "metadata": {},
   "source": [
    "In the cell below, the parameters of the pendulum dynamics, the initial condition vector and the time vector are defined. "
   ]
  },
  {
   "cell_type": "code",
   "execution_count": 89,
   "metadata": {},
   "outputs": [
    {
     "name": "stdout",
     "output_type": "stream",
     "text": [
      "X: (1000, 500, 3)\n",
      "Y: (1000, 500, 3)\n"
     ]
    }
   ],
   "source": [
    "def generate_data_IO(t, n_instances, n_states, b, c):\n",
    "    '''\n",
    "    \n",
    "    INPUTS:\n",
    "    - \n",
    "    - \n",
    "    - kwargs: parameters of the system\n",
    "    \n",
    "    OUTPUTS:\n",
    "    -\n",
    "    -\n",
    "    \n",
    "    '''\n",
    "\n",
    "    # Creating containers for the inputs and the outputs (i.e., random inputs and states) given a number of instances\n",
    "    Y = np.zeros(shape = (n_instances, t.shape[0], n_states))\n",
    "\n",
    "    # Container for inputs to the NN\n",
    "    X = np.zeros(shape = (n_instances, t.shape[0], n_states))\n",
    "\n",
    "    for n_inst in range(n_instances):\n",
    "\n",
    "        u = np.random.rand(t.shape[0], )\n",
    "\n",
    "        x0 = np.random.rand(n_states, )\n",
    "\n",
    "        X[n_inst, 0, :] = x0\n",
    "        Y[0, 0, :] = x0\n",
    "\n",
    "        for k in range(len(t) - 1):\n",
    "\n",
    "            # Integration time\n",
    "            t_int = np.linspace(t[k], t[k+1], 200)\n",
    "\n",
    "            # Integration\n",
    "            x_int = odeint(fluid_flow, x0, t_int, args = (u[k], mu, omega, A, l))\n",
    "\n",
    "            # Extracting the outputs\n",
    "            for state in range(x_int.shape[-1]):\n",
    "                Y[n_inst, k+1, state] = x_int[-1, state]\n",
    "\n",
    "            # Updating initial condition for next integration\n",
    "            x0 = x_int[-1, :]\n",
    "\n",
    "        # Storing input in container for NN input\n",
    "        X[n_inst, 1:, 0] = u[:k+1]\n",
    "    \n",
    "    return X, Y\n",
    "\n",
    "t = np.linspace(0, 20, 500)\n",
    "\n",
    "X, Y = generate_data_IO(t = t, n_instances = 1000, n_states = 3, b = 0.25, c = 5.00)\n",
    "print(f\"X: {X.shape}\")\n",
    "print(f\"Y: {Y.shape}\")\n",
    "\n",
    "np.savez(\"X_all_fluid.npz\", X)\n",
    "np.savez(\"Y_all_fluid.npz\", Y)"
   ]
  },
  {
   "cell_type": "code",
   "execution_count": 91,
   "metadata": {},
   "outputs": [
    {
     "name": "stdout",
     "output_type": "stream",
     "text": [
      "X_train: (720, 500, 3) - Y_train: (720, 500, 3)\n",
      "X_test: (180, 500, 3) - Y_test: (180, 500, 3)\n",
      "X_valid: (100, 500, 3) - Y_valid: (100, 500, 3)\n"
     ]
    }
   ],
   "source": [
    "n_instances = X.shape[0]\n",
    "n_validation = int(0.1*X.shape[0])\n",
    "ind_validation = random.sample(range(0, n_instances), n_validation)\n",
    "\n",
    "X_valid = X[ind_validation, :, :]\n",
    "Y_valid = Y[ind_validation, :, :]\n",
    "\n",
    "X_all = np.delete(X, ind_validation, axis = 0)\n",
    "Y_all = np.delete(Y, ind_validation, axis = 0)\n",
    "\n",
    "X_train, X_test, Y_train, Y_test = train_test_split(X_all, Y_all, test_size = 0.2, random_state = 42)\n",
    "\n",
    "print(f\"X_train: {X_train.shape} - Y_train: {Y_train.shape}\")\n",
    "print(f\"X_test: {X_test.shape} - Y_test: {Y_test.shape}\")\n",
    "print(f\"X_valid: {X_valid.shape} - Y_valid: {Y_valid.shape}\")"
   ]
  },
  {
   "cell_type": "code",
   "execution_count": 93,
   "metadata": {},
   "outputs": [
    {
     "name": "stdout",
     "output_type": "stream",
     "text": [
      "Model: \"sequential_6\"\n",
      "_________________________________________________________________\n",
      "Layer (type)                 Output Shape              Param #   \n",
      "=================================================================\n",
      "lstm_6 (LSTM)                (None, 500, 32)           4608      \n",
      "_________________________________________________________________\n",
      "time_distributed_5 (TimeDist (None, 500, 3)            99        \n",
      "=================================================================\n",
      "Total params: 4,707\n",
      "Trainable params: 4,707\n",
      "Non-trainable params: 0\n",
      "_________________________________________________________________\n"
     ]
    }
   ],
   "source": [
    "from tensorflow.keras.models import Sequential\n",
    "from tensorflow.keras.layers import Dense\n",
    "from tensorflow.keras.layers import GRU\n",
    "from tensorflow.keras.layers import LSTM\n",
    "from tensorflow.keras.layers import SimpleRNN\n",
    "from tensorflow.keras.optimizers import RMSprop\n",
    "from tensorflow.keras.layers import TimeDistributed\n",
    "from tensorflow.keras.callbacks import ModelCheckpoint\n",
    "\n",
    "n_states = 3\n",
    "\n",
    "model=Sequential()\n",
    "model.add(LSTM(32,\n",
    "               input_shape = (X_train.shape[1], X_train.shape[2]),\n",
    "               return_sequences = True))\n",
    "model.add(TimeDistributed(Dense(n_states)))\n",
    "# does not make sense to use metrics=['acc'], see https://stackoverflow.com/questions/41819457/zero-accuracy-training-a-neural-network-in-keras\n",
    "model.compile(optimizer=RMSprop(), loss='mean_squared_error', metrics=['mse'])\n",
    "\n",
    "model.summary()"
   ]
  },
  {
   "cell_type": "code",
   "execution_count": 94,
   "metadata": {},
   "outputs": [
    {
     "name": "stdout",
     "output_type": "stream",
     "text": [
      "WARNING:tensorflow:From /Users/sergio.dorado/miniconda3/envs/sd_dev_tf_1/lib/python3.7/site-packages/tensorflow_core/python/ops/math_grad.py:1424: where (from tensorflow.python.ops.array_ops) is deprecated and will be removed in a future version.\n",
      "Instructions for updating:\n",
      "Use tf.where in 2.0, which has the same broadcast rule as np.where\n",
      "Train on 720 samples, validate on 100 samples\n",
      "Epoch 1/20\n",
      "720/720 [==============================] - 3s 5ms/sample - loss: 0.1200 - mean_squared_error: 0.1200 - val_loss: 0.0202 - val_mean_squared_error: 0.0202\n",
      "Epoch 2/20\n",
      "720/720 [==============================] - 2s 3ms/sample - loss: 0.0095 - mean_squared_error: 0.0095 - val_loss: 0.0062 - val_mean_squared_error: 0.0062\n",
      "Epoch 3/20\n",
      "720/720 [==============================] - 2s 3ms/sample - loss: 0.0062 - mean_squared_error: 0.0062 - val_loss: 0.0064 - val_mean_squared_error: 0.0064\n",
      "Epoch 4/20\n",
      "720/720 [==============================] - 2s 3ms/sample - loss: 0.0070 - mean_squared_error: 0.0070 - val_loss: 0.0060 - val_mean_squared_error: 0.0060\n",
      "Epoch 5/20\n",
      "720/720 [==============================] - 2s 3ms/sample - loss: 0.0063 - mean_squared_error: 0.0063 - val_loss: 0.0077 - val_mean_squared_error: 0.0077\n",
      "Epoch 6/20\n",
      "720/720 [==============================] - 2s 3ms/sample - loss: 0.0065 - mean_squared_error: 0.0065 - val_loss: 0.0062 - val_mean_squared_error: 0.0062\n",
      "Epoch 7/20\n",
      "720/720 [==============================] - 2s 3ms/sample - loss: 0.0065 - mean_squared_error: 0.0065 - val_loss: 0.0062 - val_mean_squared_error: 0.0062\n",
      "Epoch 8/20\n",
      "720/720 [==============================] - 2s 3ms/sample - loss: 0.0059 - mean_squared_error: 0.0059 - val_loss: 0.0063 - val_mean_squared_error: 0.0063\n",
      "Epoch 9/20\n",
      "720/720 [==============================] - 3s 4ms/sample - loss: 0.0065 - mean_squared_error: 0.0065 - val_loss: 0.0056 - val_mean_squared_error: 0.0056\n",
      "Epoch 10/20\n",
      "720/720 [==============================] - 3s 3ms/sample - loss: 0.0057 - mean_squared_error: 0.0057 - val_loss: 0.0073 - val_mean_squared_error: 0.0073\n",
      "Epoch 11/20\n",
      "720/720 [==============================] - 2s 3ms/sample - loss: 0.0060 - mean_squared_error: 0.0060 - val_loss: 0.0054 - val_mean_squared_error: 0.0054\n",
      "Epoch 12/20\n",
      "720/720 [==============================] - 2s 3ms/sample - loss: 0.0058 - mean_squared_error: 0.0058 - val_loss: 0.0063 - val_mean_squared_error: 0.0063\n",
      "Epoch 13/20\n",
      "720/720 [==============================] - 2s 3ms/sample - loss: 0.0056 - mean_squared_error: 0.0056 - val_loss: 0.0056 - val_mean_squared_error: 0.0056\n",
      "Epoch 14/20\n",
      "720/720 [==============================] - 2s 3ms/sample - loss: 0.0057 - mean_squared_error: 0.0057 - val_loss: 0.0055 - val_mean_squared_error: 0.0055\n",
      "Epoch 15/20\n",
      "720/720 [==============================] - 2s 3ms/sample - loss: 0.0054 - mean_squared_error: 0.0054 - val_loss: 0.0057 - val_mean_squared_error: 0.0057\n",
      "Epoch 16/20\n",
      "720/720 [==============================] - 2s 3ms/sample - loss: 0.0054 - mean_squared_error: 0.0054 - val_loss: 0.0056 - val_mean_squared_error: 0.0056\n",
      "Epoch 17/20\n",
      "720/720 [==============================] - 2s 3ms/sample - loss: 0.0055 - mean_squared_error: 0.0055 - val_loss: 0.0052 - val_mean_squared_error: 0.0052\n",
      "Epoch 18/20\n",
      "720/720 [==============================] - 2s 3ms/sample - loss: 0.0052 - mean_squared_error: 0.0052 - val_loss: 0.0057 - val_mean_squared_error: 0.0057\n",
      "Epoch 19/20\n",
      "720/720 [==============================] - 2s 3ms/sample - loss: 0.0052 - mean_squared_error: 0.0052 - val_loss: 0.0049 - val_mean_squared_error: 0.0049\n",
      "Epoch 20/20\n",
      "720/720 [==============================] - 2s 3ms/sample - loss: 0.0050 - mean_squared_error: 0.0050 - val_loss: 0.0055 - val_mean_squared_error: 0.0055\n"
     ]
    }
   ],
   "source": [
    "model_dir = os.path.abspath('sysid_test_lstm')\n",
    "\n",
    "if not os.path.exists(model_dir):\n",
    "    os.mkdir(model_dir)\n",
    "\n",
    "filepath = os.path.join(model_dir, 'LSTM_Model_SysID.hdf5') \n",
    "checkpoint = ModelCheckpoint(filepath, monitor='val_loss', verbose=0, save_best_only = True, mode = 'min', patience = 10)\n",
    "callbacks = [checkpoint]\n",
    "\n",
    "hist = model.fit(X_train, Y_train, \n",
    "                 epochs = 20, batch_size = 100, \n",
    "                 callbacks = callbacks, \n",
    "                 validation_data = (X_valid, Y_valid),\n",
    "                 verbose = 1)"
   ]
  },
  {
   "cell_type": "code",
   "execution_count": 95,
   "metadata": {},
   "outputs": [],
   "source": [
    "# load the model with the smallest validation loss\n",
    "model.load_weights(filepath)\n",
    "\n",
    "# use the test data to predict the model response\n",
    "Y_predict = model.predict(X_test)\n",
    "\n",
    "loss = hist.history['loss']\n",
    "val_loss = hist.history['val_loss']\n",
    "epochs = range(1, len(loss)+1)"
   ]
  },
  {
   "cell_type": "code",
   "execution_count": 100,
   "metadata": {},
   "outputs": [
    {
     "data": {
      "text/plain": [
       "[<matplotlib.lines.Line2D at 0x7f80e205f8d0>]"
      ]
     },
     "execution_count": 100,
     "metadata": {},
     "output_type": "execute_result"
    },
    {
     "data": {
      "image/png": "[encoded data removed]",
      "text/plain": [
       "<Figure size 720x576 with 4 Axes>"
      ]
     },
     "metadata": {
      "needs_background": "light"
     },
     "output_type": "display_data"
    }
   ],
   "source": [
    "fig, axes = plt.subplots(nrows = 2, ncols = 2, figsize = (10, 8))\n",
    "\n",
    "axes[0][0].plot(t, Y_test[2, :, 0], label = \"Ground Truth\")\n",
    "axes[0][0].plot(t, Y_predict[2,:,0], label = \"Prediction\")\n",
    "\n",
    "# State 2\n",
    "axes[0][1].plot(t, Y_test[2, :, 1], label = \"Ground Truth\")\n",
    "axes[0][1].plot(t, Y_predict[2,:, 1], label = \"Prediction\")\n",
    "\n",
    "# Loss function\n",
    "axes[1][0].plot(epochs, loss, label = \"Loss\")\n",
    "axes[1][1].plot(epochs, val_loss, label = \"Validation Loss\")"
   ]
  }
 ],
 "metadata": {
  "kernelspec": {
   "display_name": "Python 3",
   "language": "python",
   "name": "python3"
  },
  "language_info": {
   "codemirror_mode": {
    "name": "ipython",
    "version": 3
   },
   "file_extension": ".py",
   "mimetype": "text/x-python",
   "name": "python",
   "nbconvert_exporter": "python",
   "pygments_lexer": "ipython3",
   "version": "3.7.7"
  }
 },
 "nbformat": 4,
 "nbformat_minor": 4
}
