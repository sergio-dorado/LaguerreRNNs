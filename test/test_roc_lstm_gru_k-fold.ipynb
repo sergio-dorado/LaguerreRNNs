{
 "cells": [
  {
   "cell_type": "code",
   "execution_count": 1,
   "metadata": {},
   "outputs": [],
   "source": [
    "import numpy as np\n",
    "import matplotlib.pyplot as plt\n",
    "import pandas as pd\n",
    "\n",
    "import tensorflow as tf\n",
    "\n",
    "from tensorflow.keras.models import Sequential\n",
    "from tensorflow.keras.layers import Dense, LSTM, GRU\n",
    "from tensorflow.keras.callbacks import EarlyStopping, ModelCheckpoint\n",
    "from tensorflow.keras.utils import to_categorical\n",
    "\n",
    "from sklearn.datasets import make_classification\n",
    "from sklearn.model_selection import train_test_split, KFold, StratifiedKFold\n",
    "from sklearn.metrics import roc_curve, auc"
   ]
  },
  {
   "cell_type": "code",
   "execution_count": 2,
   "metadata": {},
   "outputs": [
    {
     "name": "stdout",
     "output_type": "stream",
     "text": [
      "X: (100, 50, 1) - y: (100,)\n"
     ]
    }
   ],
   "source": [
    "X, y = make_classification(n_samples = 100, n_features = 50)\n",
    "X = np.reshape(X, [X.shape[0], X.shape[1], 1])\n",
    "\n",
    "print(f\"X: {X.shape} - y: {y.shape}\")"
   ]
  },
  {
   "cell_type": "code",
   "execution_count": 3,
   "metadata": {},
   "outputs": [
    {
     "name": "stdout",
     "output_type": "stream",
     "text": [
      "WARNING:tensorflow:From /Users/sergio.dorado/miniconda3/envs/sd_dev_tf_1/lib/python3.7/site-packages/tensorflow_core/python/ops/resource_variable_ops.py:1630: calling BaseResourceVariable.__init__ (from tensorflow.python.ops.resource_variable_ops) with constraint is deprecated and will be removed in a future version.\n",
      "Instructions for updating:\n",
      "If using Keras pass *_constraint arguments to layers.\n",
      "Model: \"sequential\"\n",
      "_________________________________________________________________\n",
      "Layer (type)                 Output Shape              Param #   \n",
      "=================================================================\n",
      "lstm (LSTM)                  (None, 100)               40800     \n",
      "_________________________________________________________________\n",
      "dense (Dense)                (None, 2)                 202       \n",
      "=================================================================\n",
      "Total params: 41,002\n",
      "Trainable params: 41,002\n",
      "Non-trainable params: 0\n",
      "_________________________________________________________________\n",
      "Model: \"sequential_1\"\n",
      "_________________________________________________________________\n",
      "Layer (type)                 Output Shape              Param #   \n",
      "=================================================================\n",
      "gru (GRU)                    (None, 100)               30600     \n",
      "_________________________________________________________________\n",
      "dense_1 (Dense)              (None, 2)                 202       \n",
      "=================================================================\n",
      "Total params: 30,802\n",
      "Trainable params: 30,802\n",
      "Non-trainable params: 0\n",
      "_________________________________________________________________\n"
     ]
    }
   ],
   "source": [
    "seed = 0\n",
    "tf.random.set_random_seed(seed)\n",
    "np.random.seed(seed)\n",
    "\n",
    "#####################################\n",
    "####### DEFINING LSTM MODEL #########\n",
    "#####################################\n",
    "\n",
    "length = X.shape[1]\n",
    "n_features = X.shape[-1]\n",
    "n_classes = to_categorical(y).shape[-1]\n",
    "\n",
    "model_lstm = Sequential()\n",
    "\n",
    "model_lstm.add(LSTM(units = 100, \n",
    "              input_shape = (length, n_features), return_sequences = False))\n",
    "model_lstm.add(Dense(n_classes, activation = \"softmax\"))\n",
    "\n",
    "model_lstm.compile(optimizer = \"adam\", loss = \"categorical_crossentropy\", metrics = [\"accuracy\"])\n",
    "model_lstm.summary()\n",
    "\n",
    "#####################################\n",
    "######## DEFINING GRU MODEL #########\n",
    "#####################################\n",
    "\n",
    "seed = 0\n",
    "tf.random.set_random_seed(seed)\n",
    "np.random.seed(seed)\n",
    "\n",
    "model_gru = Sequential()\n",
    "\n",
    "model_gru.add(GRU(units = 100, \n",
    "              input_shape = (length, n_features), return_sequences = False))\n",
    "model_gru.add(Dense(n_classes, activation = \"softmax\"))\n",
    "\n",
    "model_gru.compile(optimizer = \"adam\", loss = \"categorical_crossentropy\", metrics = [\"accuracy\"])\n",
    "model_gru.summary()"
   ]
  },
  {
   "cell_type": "code",
   "execution_count": 4,
   "metadata": {},
   "outputs": [
    {
     "name": "stdout",
     "output_type": "stream",
     "text": [
      "WARNING:tensorflow:From /Users/sergio.dorado/miniconda3/envs/sd_dev_tf_1/lib/python3.7/site-packages/tensorflow_core/python/ops/math_grad.py:1424: where (from tensorflow.python.ops.array_ops) is deprecated and will be removed in a future version.\n",
      "Instructions for updating:\n",
      "Use tf.where in 2.0, which has the same broadcast rule as np.where\n",
      "Train on 80 samples\n",
      "80/80 [==============================] - 1s 8ms/sample - loss: 0.7001 - acc: 0.4625\n",
      "Train on 80 samples\n",
      "80/80 [==============================] - 0s 524us/sample - loss: 0.6933 - acc: 0.5125\n",
      "Train on 80 samples\n",
      "80/80 [==============================] - 0s 560us/sample - loss: 0.6928 - acc: 0.4875\n",
      "Train on 80 samples\n",
      "80/80 [==============================] - 0s 603us/sample - loss: 0.6887 - acc: 0.5000\n",
      "Train on 80 samples\n",
      "80/80 [==============================] - 0s 579us/sample - loss: 0.6889 - acc: 0.4500\n"
     ]
    }
   ],
   "source": [
    "model_name = 'lstm'\n",
    "n_folds = 5\n",
    "\n",
    "cv = StratifiedKFold(n_splits = 5)\n",
    "seed = 0\n",
    "tf.random.set_random_seed(seed)\n",
    "np.random.seed(seed)\n",
    "\n",
    "auroc_per_fold = []\n",
    "\n",
    "df_roc_curve = pd.DataFrame(columns = range(1, n_folds))\n",
    "\n",
    "# Array to compute the mean false positive rate (100 points)\n",
    "mean_fpr = np.linspace(0, 1, 100)\n",
    "\n",
    "for n_fold, (train, test) in enumerate(cv.split(X, y)):\n",
    "    \n",
    "    hist = model_lstm.fit(X[train],\n",
    "                   to_categorical(y[train]),\n",
    "                   epochs = 1,\n",
    "                   batch_size = 100)\n",
    "    \n",
    "    y_logits = model_lstm.predict(X[test])\n",
    "\n",
    "    # Computing scores for the positive class only (taking position '1' as the positive class)\n",
    "    y_scores = y_logits[:,1]\n",
    "    _fpr, _tpr, _ = roc_curve(y[test], y_scores)\n",
    "    \n",
    "    # Calculating the tpr in exact 100 points using linear interpolation\n",
    "    interp_tpr = np.interp(mean_fpr, _fpr, _tpr)\n",
    "    interp_tpr[0] = 0.0\n",
    "    \n",
    "    # Saving fpr and tpr per fold\n",
    "    df_roc_curve[n_fold + 1] = interp_tpr\n",
    "    \n",
    "    # AUC score\n",
    "    auroc_score = auc(_fpr, _tpr)\n",
    "    auroc_per_fold.append(auroc_score)\n",
    "    \n",
    "# Computing standard deviation\n",
    "std_dev_tpr = df_roc_curve.std(axis = 1)\n",
    "# Computing and adding mean into the dataframe\n",
    "df_roc_curve['mean_tpr'] = df_roc_curve.mean(axis = 1)\n",
    "# Adding standard deviation\n",
    "df_roc_curve['std_tpr'] = std_dev_tpr\n",
    "# Adding fpr to the dataframe\n",
    "df_roc_curve['fpr'] = mean_fpr"
   ]
  },
  {
   "cell_type": "code",
   "execution_count": 5,
   "metadata": {},
   "outputs": [
    {
     "data": {
      "text/plain": [
       "<matplotlib.legend.Legend at 0x7f9637ca8690>"
      ]
     },
     "execution_count": 5,
     "metadata": {},
     "output_type": "execute_result"
    },
    {
     "data": {
      "image/png": "[encoded data removed]",
      "text/plain": [
       "<Figure size 576x432 with 1 Axes>"
      ]
     },
     "metadata": {
      "needs_background": "light"
     },
     "output_type": "display_data"
    }
   ],
   "source": [
    "mean_auc = auc(df_roc_curve['fpr'], df_roc_curve['mean_tpr'])\n",
    "std_auc = np.std(auroc_per_fold)\n",
    "\n",
    "fig, axes = plt.subplots(figsize = (8, 6))\n",
    "\n",
    "for fold in range(1, 6):\n",
    "    auc_score = auroc_per_fold[fold - 1]\n",
    "    axes.plot(df_roc_curve['fpr'], df_roc_curve[fold], label = f'ROC fold {fold} (AUC = {auc_score:.2f})', alpha = .2)\n",
    "\n",
    "# Plotting chance curve\n",
    "axes.plot([0, 1], [0, 1], linestyle = '--', lw = 2, color = 'r', label = 'Chance', alpha = .8)\n",
    "# Plotting mean curve\n",
    "axes.plot(df_roc_curve['fpr'], df_roc_curve['mean_tpr'], color = 'blue', label = f'Mean ROC (AUC = {mean_auc:.2f} $\\pm$ {std_auc:.2f})')\n",
    "\n",
    "tpr_upper = np.minimum(df_roc_curve['mean_tpr'] + df_roc_curve['std_tpr'], 1)\n",
    "tpr_lower = np.maximum(df_roc_curve['mean_tpr'] - df_roc_curve['std_tpr'], 0)\n",
    "\n",
    "axes.fill_between(df_roc_curve['fpr'], tpr_lower, tpr_upper, color = 'grey', alpha = .2)\n",
    "\n",
    "axes.legend()"
   ]
  },
  {
   "cell_type": "code",
   "execution_count": null,
   "metadata": {},
   "outputs": [],
   "source": []
  }
 ],
 "metadata": {
  "kernelspec": {
   "display_name": "Python 3",
   "language": "python",
   "name": "python3"
  },
  "language_info": {
   "codemirror_mode": {
    "name": "ipython",
    "version": 3
   },
   "file_extension": ".py",
   "mimetype": "text/x-python",
   "name": "python",
   "nbconvert_exporter": "python",
   "pygments_lexer": "ipython3",
   "version": "3.7.7"
  }
 },
 "nbformat": 4,
 "nbformat_minor": 4
}
