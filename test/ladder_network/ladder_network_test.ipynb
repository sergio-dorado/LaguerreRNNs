{
 "cells": [
  {
   "cell_type": "code",
   "execution_count": 1,
   "metadata": {},
   "outputs": [],
   "source": [
    "import control as ctrl\n",
    "import numpy as np\n",
    "import matplotlib.pyplot as plt"
   ]
  },
  {
   "cell_type": "markdown",
   "metadata": {},
   "source": [
    "## Constructing a Ladder Network\n",
    "This code constructs the default architecture of the ladder network. This is a network that returns a delayed version of the input in each of its outputs."
   ]
  },
  {
   "cell_type": "code",
   "execution_count": 2,
   "metadata": {},
   "outputs": [],
   "source": [
    "import numpy as np\n",
    "import control as ctrl\n",
    "\n",
    "def ladder_network(n_inputs, n_outputs, max_delay):\n",
    "\n",
    "    num_mat = []\n",
    "    den_mat = []\n",
    "\n",
    "    for row in range(n_inputs):\n",
    "        num_row = []\n",
    "        den_row = []\n",
    "        for col in range(n_outputs):\n",
    "            if row == col:\n",
    "                den = np.array([1, 0])\n",
    "                for _ in range(1, col*int(max_delay/(n_outputs - 1))):\n",
    "                    den = np.convolve(den, np.array([1, 0]))\n",
    "                num_row.append(np.array([1]))\n",
    "                den_row.append(den)\n",
    "            else:\n",
    "                num_row.append(np.array([0]))\n",
    "                den_row.append(np.array([1]))\n",
    "\n",
    "        num_mat.append(num_row)\n",
    "        den_mat.append(den_row)\n",
    "\n",
    "    G_tf_mat = ctrl.TransferFunction(num_mat, den_mat, True)\n",
    "\n",
    "    ss_G = ctrl.tf2ss(G_tf_mat)\n",
    "\n",
    "    A, B, C, D = np.asarray(ss_G.A), np.asarray(ss_G.B), np.asarray(ss_G.C), np.asarray(ss_G.D)\n",
    "    \n",
    "    return A, B, C, D"
   ]
  },
  {
   "cell_type": "markdown",
   "metadata": {},
   "source": [
    "In the cell below, we create a `ladder_network` with `n_inputs = 3` and `n_outputs = 3`. The maximum delay is set to `max_delay = 3`. The function returns a state-space realization of such system. "
   ]
  },
  {
   "cell_type": "code",
   "execution_count": 7,
   "metadata": {},
   "outputs": [],
   "source": [
    "A, B, C, D = ladder_network(n_inputs = 5, n_outputs = 5, max_delay = 100)\n",
    "ss_ladder = ctrl.StateSpace(A, B, C, D, True)"
   ]
  },
  {
   "cell_type": "markdown",
   "metadata": {},
   "source": [
    "Below, we validate the output of the delay system. We input a set of signals $\\mathbf{U}$ and get a delayed version by \n",
    "$1$, $50$ and $100$ samples, respectively"
   ]
  },
  {
   "cell_type": "code",
   "execution_count": 35,
   "metadata": {},
   "outputs": [
    {
     "data": {
      "image/png": "[encoded data removed]",
      "text/plain": [
       "<Figure size 432x432 with 1 Axes>"
      ]
     },
     "metadata": {
      "needs_background": "dark"
     },
     "output_type": "display_data"
    }
   ],
   "source": [
    "T = np.arange(0, 300, 1)\n",
    "U = np.ones([5, len(T)])\n",
    "\n",
    "#U[-1,:] = np.sin(2*np.pi*(1/200)*T) + np.cos(4*np.pi*(1/200)*T) \n",
    "\n",
    "_, s, _ = ctrl.forced_response(ss_ladder, T, U)\n",
    "\n",
    "fig, axes = plt.subplots(nrows = 1, ncols = 1, figsize = (6, 6))\n",
    "\n",
    "axes.plot(T, U[out, :], label = f\"Input\", color = 'yellow', linestyle = '--')\n",
    "\n",
    "for out in range(1, s.shape[0]):\n",
    "    axes.plot(T, s[out, :], label = f\"Output {out}\")\n",
    "\n",
    "font_plot = 'Times'\n",
    "axes.legend(prop = {'size' : 16, 'family' : font_plot}, frameon = False)\n",
    "\n",
    "axes.set_xlabel(\"Time (s)\", fontname = font_plot, color = \"white\", fontsize = 15)\n",
    "axes.set_ylabel(\"Amplitude\", fontname = font_plot, color = \"white\", fontsize = 15)\n",
    "axes.set_title(\"Ladder Network Outputs\", fontname = font_plot, fontsize = 20, color = \"white\")\n",
    "            \n",
    "for tick in axes.xaxis.get_major_ticks():\n",
    "    tick.label.set_fontsize(14)\n",
    "    tick.label.set_fontname(font_plot)\n",
    "\n",
    "for tick in axes.yaxis.get_major_ticks():\n",
    "    tick.label.set_fontsize(14)\n",
    "    tick.label.set_fontname(font_plot)\n",
    "    \n",
    "leg = axes.get_legend()\n",
    "for text in leg.get_texts():\n",
    "    text.set_color(\"white\")\n",
    "    \n",
    "axes.tick_params(color = \"white\", labelcolor = \"white\")\n",
    "\n",
    "fig.savefig(\"Fig_Ladder_Network.png\", dpi = 300, transparent = True)"
   ]
  },
  {
   "cell_type": "code",
   "execution_count": null,
   "metadata": {},
   "outputs": [],
   "source": []
  }
 ],
 "metadata": {
  "kernelspec": {
   "display_name": "Python 3",
   "language": "python",
   "name": "python3"
  },
  "language_info": {
   "codemirror_mode": {
    "name": "ipython",
    "version": 3
   },
   "file_extension": ".py",
   "mimetype": "text/x-python",
   "name": "python",
   "nbconvert_exporter": "python",
   "pygments_lexer": "ipython3",
   "version": "3.7.7"
  }
 },
 "nbformat": 4,
 "nbformat_minor": 4
}
