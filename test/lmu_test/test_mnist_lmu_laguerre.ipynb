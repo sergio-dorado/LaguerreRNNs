{
 "cells": [
  {
   "cell_type": "code",
   "execution_count": 37,
   "metadata": {},
   "outputs": [],
   "source": [
    "%run -i lmu_laguerre_cell.py\n",
    "\n",
    "# Importing libraries for LMU\n",
    "from nengolib.signal import LinearSystem, Identity, cont2discrete\n",
    "from nengolib.synapses import LegendreDelay\n",
    "\n",
    "#from lmu_laguerre_cell import LMUCell, LaguerreCell\n",
    "import keras\n",
    "from keras.callbacks import EarlyStopping, ModelCheckpoint\n",
    "from keras.layers.core import Dense\n",
    "from keras.layers.recurrent import RNN\n",
    "from keras.models import Sequential, Model\n",
    "from keras.initializers import Constant\n",
    "from keras.utils import multi_gpu_model, to_categorical\n",
    "\n",
    "import matplotlib.pyplot as plt\n",
    "\n",
    "import os\n",
    "import sys"
   ]
  },
  {
   "cell_type": "code",
   "execution_count": 24,
   "metadata": {},
   "outputs": [
    {
     "name": "stdout",
     "output_type": "stream",
     "text": [
      "X_train: (60000, 784, 1)\n",
      "X_test: (10000, 784, 1)\n"
     ]
    }
   ],
   "source": [
    "# MNIST dataset parameters.\n",
    "num_features = 784 # data features (img shape: 28*28).\n",
    "\n",
    "from keras.datasets import mnist\n",
    "(X_train, Y_train), (X_test, Y_test) = mnist.load_data()\n",
    "# Convert to float32.\n",
    "X_train, X_test = np.array(x_train, np.float32), np.array(x_test, np.float32)\n",
    "# Flatten images to 1-D vector of 784 features (28*28).\n",
    "X_train, X_test = x_train.reshape([-1, num_features, 1]), x_test.reshape([-1, num_features, 1])\n",
    "# Normalize images value from [0, 255] to [0, 1].\n",
    "X_train, X_test = X_train / 255., X_test / 255.\n",
    "\n",
    "print(f\"X_train: {X_train.shape}\")\n",
    "print(f\"X_test: {X_test.shape}\")"
   ]
  },
  {
   "cell_type": "code",
   "execution_count": 34,
   "metadata": {},
   "outputs": [
    {
     "name": "stdout",
     "output_type": "stream",
     "text": [
      "Model: \"sequential_11\"\n",
      "_________________________________________________________________\n",
      "Layer (type)                 Output Shape              Param #   \n",
      "=================================================================\n",
      "rnn_11 (RNN)                 (None, 50)                25641     \n",
      "_________________________________________________________________\n",
      "dense_9 (Dense)              (None, 10)                510       \n",
      "=================================================================\n",
      "Total params: 26,151\n",
      "Trainable params: 9,639\n",
      "Non-trainable params: 16,512\n",
      "_________________________________________________________________\n"
     ]
    }
   ],
   "source": [
    "seed = 42  # to help with reproducibility\n",
    "\n",
    "from tensorflow import set_random_seed\n",
    "set_random_seed(seed=seed)\n",
    "np.random.seed(seed=seed)\n",
    "\n",
    "n_pixels = 785 - 1\n",
    "assert n_pixels == 28**2\n",
    "\n",
    "def laguerre_layer(**kwargs):\n",
    "    return RNN(LaguerreCell(units = 50,\n",
    "                        order = 128,\n",
    "                        a = 0.9,\n",
    "                        theta=n_pixels,\n",
    "                        input_encoders_initializer=Constant(1),\n",
    "                        hidden_encoders_initializer=Constant(0),\n",
    "                        memory_encoders_initializer=Constant(0),\n",
    "                        input_kernel_initializer=Constant(0),\n",
    "                        hidden_kernel_initializer=Constant(0),\n",
    "                        memory_kernel_initializer='glorot_normal',\n",
    "                      ),\n",
    "               return_sequences=False,\n",
    "               **kwargs)\n",
    "\n",
    "model = Sequential()\n",
    "model.add(laguerre_layer(\n",
    "    input_shape = (None,1)))\n",
    "model.add(Dense(10, activation='softmax'))\n",
    "\n",
    "# model = multi_gpu_model(model, gpus=4)\n",
    "\n",
    "opt = keras.optimizers.Adam(learning_rate=0.001)\n",
    "\n",
    "model.compile(loss=\"categorical_crossentropy\", optimizer=opt, metrics=['accuracy'])\n",
    "model.summary()"
   ]
  },
  {
   "cell_type": "code",
   "execution_count": 35,
   "metadata": {},
   "outputs": [
    {
     "name": "stdout",
     "output_type": "stream",
     "text": [
      "Train on 60000 samples, validate on 10000 samples\n",
      "Epoch 1/10\n",
      "60000/60000 [==============================] - 300s 5ms/step - loss: 0.5054 - accuracy: 0.8542 - val_loss: 0.2650 - val_accuracy: 0.9237\n",
      "\n",
      "Epoch 00001: val_loss improved from inf to 0.26505, saving model to /data/home/dorads/Documents/GitHub_Repos/01_Maintained/NeuralODE/test/lmu_test/models/MNIST-laguerre.hdf5\n",
      "Epoch 2/10\n",
      "60000/60000 [==============================] - 289s 5ms/step - loss: 0.2213 - accuracy: 0.9349 - val_loss: 0.1873 - val_accuracy: 0.9461\n",
      "\n",
      "Epoch 00002: val_loss improved from 0.26505 to 0.18729, saving model to /data/home/dorads/Documents/GitHub_Repos/01_Maintained/NeuralODE/test/lmu_test/models/MNIST-laguerre.hdf5\n",
      "Epoch 3/10\n",
      "60000/60000 [==============================] - 303s 5ms/step - loss: 0.1780 - accuracy: 0.9467 - val_loss: 0.1653 - val_accuracy: 0.9513\n",
      "\n",
      "Epoch 00003: val_loss improved from 0.18729 to 0.16533, saving model to /data/home/dorads/Documents/GitHub_Repos/01_Maintained/NeuralODE/test/lmu_test/models/MNIST-laguerre.hdf5\n",
      "Epoch 4/10\n",
      "60000/60000 [==============================] - 290s 5ms/step - loss: 0.1531 - accuracy: 0.9535 - val_loss: 0.1485 - val_accuracy: 0.9551\n",
      "\n",
      "Epoch 00004: val_loss improved from 0.16533 to 0.14854, saving model to /data/home/dorads/Documents/GitHub_Repos/01_Maintained/NeuralODE/test/lmu_test/models/MNIST-laguerre.hdf5\n",
      "Epoch 5/10\n",
      "60000/60000 [==============================] - 290s 5ms/step - loss: 0.1385 - accuracy: 0.9581 - val_loss: 0.1453 - val_accuracy: 0.9559\n",
      "\n",
      "Epoch 00005: val_loss improved from 0.14854 to 0.14534, saving model to /data/home/dorads/Documents/GitHub_Repos/01_Maintained/NeuralODE/test/lmu_test/models/MNIST-laguerre.hdf5\n",
      "Epoch 6/10\n",
      "60000/60000 [==============================] - 292s 5ms/step - loss: 0.1278 - accuracy: 0.9615 - val_loss: 0.1253 - val_accuracy: 0.9628\n",
      "\n",
      "Epoch 00006: val_loss improved from 0.14534 to 0.12530, saving model to /data/home/dorads/Documents/GitHub_Repos/01_Maintained/NeuralODE/test/lmu_test/models/MNIST-laguerre.hdf5\n",
      "Epoch 7/10\n",
      "60000/60000 [==============================] - 293s 5ms/step - loss: 0.1187 - accuracy: 0.9640 - val_loss: 0.1153 - val_accuracy: 0.9654\n",
      "\n",
      "Epoch 00007: val_loss improved from 0.12530 to 0.11532, saving model to /data/home/dorads/Documents/GitHub_Repos/01_Maintained/NeuralODE/test/lmu_test/models/MNIST-laguerre.hdf5\n",
      "Epoch 8/10\n",
      "60000/60000 [==============================] - 297s 5ms/step - loss: 0.1123 - accuracy: 0.9650 - val_loss: 0.1149 - val_accuracy: 0.9668\n",
      "\n",
      "Epoch 00008: val_loss improved from 0.11532 to 0.11486, saving model to /data/home/dorads/Documents/GitHub_Repos/01_Maintained/NeuralODE/test/lmu_test/models/MNIST-laguerre.hdf5\n",
      "Epoch 9/10\n",
      "60000/60000 [==============================] - 285s 5ms/step - loss: 0.1077 - accuracy: 0.9669 - val_loss: 0.1067 - val_accuracy: 0.9690\n",
      "\n",
      "Epoch 00009: val_loss improved from 0.11486 to 0.10672, saving model to /data/home/dorads/Documents/GitHub_Repos/01_Maintained/NeuralODE/test/lmu_test/models/MNIST-laguerre.hdf5\n",
      "Epoch 10/10\n",
      "60000/60000 [==============================] - 290s 5ms/step - loss: 0.0986 - accuracy: 0.9701 - val_loss: 0.1137 - val_accuracy: 0.9672\n",
      "\n",
      "Epoch 00010: val_loss did not improve from 0.10672\n",
      "Took 48.86 min\n"
     ]
    }
   ],
   "source": [
    "set_random_seed(seed=seed)\n",
    "np.random.seed(seed=seed)\n",
    "\n",
    "import time\n",
    "\n",
    "batch_size = 100\n",
    "epochs = 10\n",
    "fname = os.path.abspath('models/MNIST-laguerre.hdf5')\n",
    "\n",
    "callbacks = [\n",
    "    # CSVLogger('log-ctn19-pmnist-dn-090419.csv', append=True, separator=';')\n",
    "    # EarlyStopping(monitor='val_loss', min_delta=1e-6, patience=5),\n",
    "    ModelCheckpoint(filepath=fname, monitor='val_loss', verbose=1, save_best_only=True),\n",
    "]\n",
    "\n",
    "t = time.time()\n",
    "\n",
    "result = model.fit(\n",
    "    X_train,\n",
    "    to_categorical(Y_train),\n",
    "    epochs=epochs,\n",
    "    batch_size=batch_size,\n",
    "    validation_data=(X_test, to_categorical(Y_test)),\n",
    "    callbacks=callbacks,\n",
    ")\n",
    "\n",
    "print(\"Took {:.2f} min\".format((time.time() - t) / 60))"
   ]
  },
  {
   "cell_type": "code",
   "execution_count": 39,
   "metadata": {},
   "outputs": [
    {
     "data": {
      "image/png": "[encoded data removed]",
      "text/plain": [
       "<Figure size 432x288 with 1 Axes>"
      ]
     },
     "metadata": {
      "needs_background": "light"
     },
     "output_type": "display_data"
    }
   ],
   "source": [
    "plt.figure()\n",
    "plt.plot(result.history['val_accuracy'], label=\"Validation\")\n",
    "plt.plot(result.history['accuracy'], label=\"Training\")\n",
    "plt.legend()\n",
    "plt.xlabel(\"Epoch\")\n",
    "plt.ylabel(\"Accuracy\")\n",
    "plt.title(\"MNIST - Laguerre Cell\")\n",
    "plt.show()"
   ]
  },
  {
   "cell_type": "code",
   "execution_count": 44,
   "metadata": {},
   "outputs": [
    {
     "name": "stdout",
     "output_type": "stream",
     "text": [
      "Model: \"sequential_13\"\n",
      "_________________________________________________________________\n",
      "Layer (type)                 Output Shape              Param #   \n",
      "=================================================================\n",
      "rnn_13 (RNN)                 (None, 212)               165689    \n",
      "_________________________________________________________________\n",
      "dense_11 (Dense)             (None, 10)                2130      \n",
      "=================================================================\n",
      "Total params: 167,819\n",
      "Trainable params: 102,027\n",
      "Non-trainable params: 65,792\n",
      "_________________________________________________________________\n"
     ]
    }
   ],
   "source": [
    "seed = 42  # to help with reproducibility\n",
    "\n",
    "from tensorflow import set_random_seed\n",
    "set_random_seed(seed=seed)\n",
    "np.random.seed(seed=seed)\n",
    "\n",
    "n_pixels = 785 - 1\n",
    "assert n_pixels == 28**2\n",
    "\n",
    "def LMU_layer(**kwargs):\n",
    "    return RNN(LMUCell(units=212,\n",
    "                       order=256,\n",
    "                       theta=n_pixels,\n",
    "                       input_encoders_initializer=Constant(1),\n",
    "                       hidden_encoders_initializer=Constant(0),\n",
    "                       memory_encoders_initializer=Constant(0),\n",
    "                       input_kernel_initializer=Constant(0),\n",
    "                       hidden_kernel_initializer=Constant(0),\n",
    "                       memory_kernel_initializer='glorot_normal',\n",
    "                      ),\n",
    "               return_sequences=False,\n",
    "               **kwargs)\n",
    "\n",
    "model = Sequential()\n",
    "model.add(LMU_layer(\n",
    "    input_shape=X_train.shape[1:],  # (nr. of pixels, 1)\n",
    "))\n",
    "model.add(Dense(10, activation='softmax'))\n",
    "\n",
    "# model = multi_gpu_model(model, gpus=4)\n",
    "\n",
    "model.compile(loss=\"categorical_crossentropy\", optimizer='adam', metrics=['accuracy'])\n",
    "model.summary()"
   ]
  },
  {
   "cell_type": "code",
   "execution_count": 45,
   "metadata": {},
   "outputs": [
    {
     "name": "stdout",
     "output_type": "stream",
     "text": [
      "/data/home/dorads/Documents/GitHub_Repos/01_Maintained/NeuralODE/test/lmu_test/models/MNIST-LMU.hdf5\n",
      "Train on 60000 samples, validate on 10000 samples\n",
      "Epoch 1/10\n",
      "60000/60000 [==============================] - 384s 6ms/step - loss: 0.3213 - accuracy: 0.9037 - val_loss: 0.1731 - val_accuracy: 0.9493\n",
      "\n",
      "Epoch 00001: val_loss improved from inf to 0.17307, saving model to /data/home/dorads/Documents/GitHub_Repos/01_Maintained/NeuralODE/test/lmu_test/models/MNIST-LMU.hdf5\n",
      "Epoch 2/10\n",
      "60000/60000 [==============================] - 379s 6ms/step - loss: nan - accuracy: 0.2628 - val_loss: nan - val_accuracy: 0.0980\n",
      "\n",
      "Epoch 00002: val_loss did not improve from 0.17307\n",
      "Epoch 3/10\n",
      "60000/60000 [==============================] - 379s 6ms/step - loss: nan - accuracy: 0.0987 - val_loss: nan - val_accuracy: 0.0980\n",
      "\n",
      "Epoch 00003: val_loss did not improve from 0.17307\n",
      "Epoch 4/10\n",
      "60000/60000 [==============================] - 374s 6ms/step - loss: nan - accuracy: 0.0987 - val_loss: nan - val_accuracy: 0.0980\n",
      "\n",
      "Epoch 00004: val_loss did not improve from 0.17307\n",
      "Epoch 5/10\n",
      "60000/60000 [==============================] - 373s 6ms/step - loss: nan - accuracy: 0.0987 - val_loss: nan - val_accuracy: 0.0980\n",
      "\n",
      "Epoch 00005: val_loss did not improve from 0.17307\n",
      "Epoch 6/10\n",
      "60000/60000 [==============================] - 375s 6ms/step - loss: nan - accuracy: 0.0987 - val_loss: nan - val_accuracy: 0.0980\n",
      "\n",
      "Epoch 00006: val_loss did not improve from 0.17307\n",
      "Epoch 7/10\n",
      "60000/60000 [==============================] - 381s 6ms/step - loss: nan - accuracy: 0.0987 - val_loss: nan - val_accuracy: 0.0980\n",
      "\n",
      "Epoch 00007: val_loss did not improve from 0.17307\n",
      "Epoch 8/10\n",
      "60000/60000 [==============================] - 384s 6ms/step - loss: nan - accuracy: 0.0987 - val_loss: nan - val_accuracy: 0.0980\n",
      "\n",
      "Epoch 00008: val_loss did not improve from 0.17307\n",
      "Epoch 9/10\n",
      "60000/60000 [==============================] - 383s 6ms/step - loss: nan - accuracy: 0.0987 - val_loss: nan - val_accuracy: 0.0980\n",
      "\n",
      "Epoch 00009: val_loss did not improve from 0.17307\n",
      "Epoch 10/10\n",
      "60000/60000 [==============================] - 377s 6ms/step - loss: nan - accuracy: 0.0987 - val_loss: nan - val_accuracy: 0.0980\n",
      "\n",
      "Epoch 00010: val_loss did not improve from 0.17307\n",
      "Took 63.22 min\n"
     ]
    }
   ],
   "source": [
    "### import time\n",
    "\n",
    "batch_size = 100\n",
    "epochs = 10\n",
    "fname = os.path.abspath('models/MNIST-LMU.hdf5')\n",
    "print(fname)\n",
    "\n",
    "callbacks = [\n",
    "    # CSVLogger('log-ctn19-pmnist-dn-090419.csv', append=True, separator=';')\n",
    "    # EarlyStopping(monitor='val_loss', min_delta=1e-6, patience=5),\n",
    "    ModelCheckpoint(filepath=fname, monitor='val_loss', verbose=1, save_best_only=True),\n",
    "]\n",
    "\n",
    "t = time.time()\n",
    "\n",
    "result = model.fit(\n",
    "    X_train,\n",
    "    to_categorical(Y_train),\n",
    "    epochs=epochs,\n",
    "    batch_size=batch_size,\n",
    "    validation_data=(X_test, to_categorical(Y_test)),\n",
    "    callbacks=callbacks,\n",
    ")\n",
    "\n",
    "print(\"Took {:.2f} min\".format((time.time() - t) / 60))"
   ]
  }
 ],
 "metadata": {
  "kernelspec": {
   "display_name": "Python 3",
   "language": "python",
   "name": "python3"
  },
  "language_info": {
   "codemirror_mode": {
    "name": "ipython",
    "version": 3
   },
   "file_extension": ".py",
   "mimetype": "text/x-python",
   "name": "python",
   "nbconvert_exporter": "python",
   "pygments_lexer": "ipython3",
   "version": "3.7.6"
  }
 },
 "nbformat": 4,
 "nbformat_minor": 4
}
