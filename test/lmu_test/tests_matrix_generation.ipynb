{
 "cells": [
  {
   "cell_type": "code",
   "execution_count": 11,
   "metadata": {},
   "outputs": [],
   "source": [
    "import numpy as np\n",
    "from scipy.linalg import inv"
   ]
  },
  {
   "cell_type": "code",
   "execution_count": 19,
   "metadata": {},
   "outputs": [
    {
     "name": "stdout",
     "output_type": "stream",
     "text": [
      "N_x_inv: \n",
      "[[2 0]\n",
      " [0 5]]\n",
      "N_x: \n",
      "[[ 0.5 -0. ]\n",
      " [ 0.   0.2]]\n"
     ]
    }
   ],
   "source": [
    "norm_factors = np.array([2, 5])\n",
    "\n",
    "N_x_inv = np.diagflat(norm_factors) \n",
    "\n",
    "N_x = inv(N_x_inv)\n",
    "\n",
    "print(f\"N_x_inv: \\n{N_x_inv}\")\n",
    "print(f\"N_x: \\n{N_x}\")\n",
    "\n",
    "A = np.array([[2, 4],[1, 3]])"
   ]
  },
  {
   "cell_type": "code",
   "execution_count": 8,
   "metadata": {},
   "outputs": [
    {
     "name": "stdout",
     "output_type": "stream",
     "text": [
      "(19, 1)\n"
     ]
    }
   ],
   "source": [
    "%run -i laguerre_delay.py\n",
    "#print(LaguerreDelay(theta = 256, order = 19).A.shape)\n",
    "print(LaguerreDelay(theta = 256, order = 19).B.shape)\n",
    "#print(LaguerreDelay(theta = 256, order = 19).C.shape)\n",
    "#print(LaguerreDelay(theta = 256, order = 19).D.shape)"
   ]
  },
  {
   "cell_type": "code",
   "execution_count": 27,
   "metadata": {},
   "outputs": [],
   "source": []
  },
  {
   "cell_type": "code",
   "execution_count": 39,
   "metadata": {},
   "outputs": [
    {
     "data": {
      "text/plain": [
       "array([[0.]])"
      ]
     },
     "execution_count": 39,
     "metadata": {},
     "output_type": "execute_result"
    }
   ],
   "source": []
  },
  {
   "cell_type": "code",
   "execution_count": 35,
   "metadata": {},
   "outputs": [],
   "source": [
    "approx = LegendreDelay(theta = 0.5, order = 4)"
   ]
  },
  {
   "cell_type": "code",
   "execution_count": 30,
   "metadata": {},
   "outputs": [],
   "source": [
    "realizer = Identity()\n",
    "realizer_result = realizer(LegendreDelay(theta = 0.5, order = 4))"
   ]
  },
  {
   "cell_type": "code",
   "execution_count": 33,
   "metadata": {},
   "outputs": [
    {
     "data": {
      "text/plain": [
       "RealizerResult(sys=LinearSystem(sys=(array([[ -2.,  -2.,  -2.,  -2.],\n",
       "       [  6.,  -6.,  -6.,  -6.],\n",
       "       [-10.,  10., -10., -10.],\n",
       "       [ 14., -14.,  14., -14.]]), array([[  2.],\n",
       "       [ -6.],\n",
       "       [ 10.],\n",
       "       [-14.]]), array([[1., 1., 1., 1.]]), array([0.])), analog=True), T=array([[1., 0., 0., 0.],\n",
       "       [0., 1., 0., 0.],\n",
       "       [0., 0., 1., 0.],\n",
       "       [0., 0., 0., 1.]]), Tinv=array([[1., 0., 0., 0.],\n",
       "       [0., 1., 0., 0.],\n",
       "       [0., 0., 1., 0.],\n",
       "       [0., 0., 0., 1.]]), realization=LinearSystem(sys=(array([[ -2.,  -2.,  -2.,  -2.],\n",
       "       [  6.,  -6.,  -6.,  -6.],\n",
       "       [-10.,  10., -10., -10.],\n",
       "       [ 14., -14.,  14., -14.]]), array([[  2.],\n",
       "       [ -6.],\n",
       "       [ 10.],\n",
       "       [-14.]]), array([[1., 1., 1., 1.]]), array([[0.]])), analog=True))"
      ]
     },
     "execution_count": 33,
     "metadata": {},
     "output_type": "execute_result"
    }
   ],
   "source": [
    "realizer_result"
   ]
  },
  {
   "cell_type": "code",
   "execution_count": 24,
   "metadata": {},
   "outputs": [
    {
     "name": "stdout",
     "output_type": "stream",
     "text": [
      "Q = [0. 1. 2.]\n",
      "\n",
      "R = [[ 2.]\n",
      " [ 6.]\n",
      " [10.]]\n",
      "\n",
      "j = [[0. 1. 2.]\n",
      " [0. 1. 2.]\n",
      " [0. 1. 2.]] (column index)\n",
      "\n",
      "i = [[0. 0. 0.]\n",
      " [1. 1. 1.]\n",
      " [2. 2. 2.]] (row index)\n",
      "\n",
      "A = [[ -2.  -2.  -2.]\n",
      " [  6.  -6.  -6.]\n",
      " [-10.  10. -10.]]\n",
      "B = [[ 2.]\n",
      " [-6.]\n",
      " [10.]]\n",
      "C = [[1. 1. 1.]]\n",
      "D = [0.]\n"
     ]
    }
   ],
   "source": [
    "import numpy as np\n",
    "#import control as ctrl\n",
    "\n",
    "def _check_order(order):\n",
    "    if order < 1 or not is_integer(order):\n",
    "        raise ValueError(\"order (%s) must be integer >= 1\" % order)\n",
    "    return order\n",
    "\n",
    "def is_integer(obj):\n",
    "    int_types = (int,)\n",
    "    return isinstance(obj, int_types + (np.integer,))\n",
    "\n",
    "theta = 0.5\n",
    "order = 3\n",
    "\n",
    "q = _check_order(order)\n",
    "\n",
    "# This is the independent variable.\n",
    "Q = np.arange(q, dtype=np.float64)\n",
    "print(f\"Q = {Q}\\n\")\n",
    "\n",
    "R = (2*Q + 1)[:, None] / theta\n",
    "print(f\"R = {R}\\n\")\n",
    "\n",
    "j, i = np.meshgrid(Q, Q)\n",
    "print(f\"j = {j} (column index)\\n\")\n",
    "print(f\"i = {i} (row index)\\n\")\n",
    "\n",
    "A = np.where(i < j, -1, (-1.)**(i-j+1)) * R\n",
    "print(f\"A = {A}\")\n",
    "\n",
    "B = (-1.)**Q[:, None] * R\n",
    "print(f\"B = {B}\")\n",
    "\n",
    "C = np.ones((1, q))\n",
    "print(f\"C = {C}\")\n",
    "\n",
    "D = np.zeros((1,))\n",
    "print(f\"D = {D}\")"
   ]
  },
  {
   "cell_type": "code",
   "execution_count": null,
   "metadata": {},
   "outputs": [],
   "source": []
  }
 ],
 "metadata": {
  "kernelspec": {
   "display_name": "Python 3",
   "language": "python",
   "name": "python3"
  },
  "language_info": {
   "codemirror_mode": {
    "name": "ipython",
    "version": 3
   },
   "file_extension": ".py",
   "mimetype": "text/x-python",
   "name": "python",
   "nbconvert_exporter": "python",
   "pygments_lexer": "ipython3",
   "version": "3.7.7"
  }
 },
 "nbformat": 4,
 "nbformat_minor": 4
}
