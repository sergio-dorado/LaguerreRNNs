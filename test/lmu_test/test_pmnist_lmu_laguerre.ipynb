{
 "cells": [
  {
   "cell_type": "code",
   "execution_count": 1,
   "metadata": {},
   "outputs": [
    {
     "name": "stderr",
     "output_type": "stream",
     "text": [
      "Using TensorFlow backend.\n"
     ]
    }
   ],
   "source": [
    "%run -i lmu_laguerre_cell.py\n",
    "\n",
    "# Importing libraries for LMU\n",
    "from nengolib.signal import LinearSystem, Identity, cont2discrete\n",
    "from nengolib.synapses import LegendreDelay\n",
    "# Importing modifications for Legendre\n",
    "#from lmu_laguerre_cell import *"
   ]
  },
  {
   "cell_type": "code",
   "execution_count": 7,
   "metadata": {},
   "outputs": [
    {
     "name": "stdout",
     "output_type": "stream",
     "text": [
      "X_test: (10000, 784, 1)\n"
     ]
    }
   ],
   "source": [
    "import os\n",
    "import sys\n",
    "import pickle\n",
    "\n",
    "with open(\"99_Data/X_test.pkl\", 'rb') as f:\n",
    "    X_test = pickle.load(f)\n",
    "with open(\"99_Data/X_train.pkl\", 'rb') as f:\n",
    "    X_train = pickle.load(f)\n",
    "with open(\"99_Data/X_valid.pkl\", 'rb') as f:\n",
    "    X_valid = pickle.load(f)\n",
    "with open(\"99_Data/Y_test.pkl\", 'rb') as f:\n",
    "    Y_test = pickle.load(f)\n",
    "with open(\"99_Data/Y_train.pkl\", 'rb') as f:\n",
    "    Y_train = pickle.load(f)\n",
    "with open(\"99_Data/Y_valid.pkl\", 'rb') as f:\n",
    "    Y_valid = pickle.load(f)\n",
    "    \n",
    "print(f\"X_test: {X_test.shape}\")"
   ]
  },
  {
   "cell_type": "code",
   "execution_count": 3,
   "metadata": {},
   "outputs": [
    {
     "data": {
      "image/png": "[encoded data removed]",
      "text/plain": [
       "<Figure size 432x288 with 2 Axes>"
      ]
     },
     "metadata": {
      "needs_background": "light"
     },
     "output_type": "display_data"
    }
   ],
   "source": [
    "import matplotlib.pyplot as plt\n",
    "import seaborn as sns\n",
    "\n",
    "plt.subplot(111)\n",
    "plt.title(\"Digit = %d\" % Y_train[1])\n",
    "plt.imshow(X_train[1].reshape(28, 28))\n",
    "plt.colorbar()\n",
    "plt.show()"
   ]
  },
  {
   "cell_type": "code",
   "execution_count": 4,
   "metadata": {},
   "outputs": [],
   "source": [
    "#from lmu_laguerre_cell import LMUCell, LaguerreCell\n",
    "\n",
    "from keras.callbacks import EarlyStopping, ModelCheckpoint\n",
    "from keras.layers.core import Dense\n",
    "from keras.layers.recurrent import RNN\n",
    "from keras.models import Sequential, Model\n",
    "from keras.initializers import Constant\n",
    "from keras.utils import multi_gpu_model, to_categorical\n",
    "\n",
    "seed = 0  # to help with reproducibility\n",
    "\n",
    "from tensorflow import set_random_seed\n",
    "set_random_seed(seed=seed)\n",
    "np.random.seed(seed=seed)"
   ]
  },
  {
   "cell_type": "code",
   "execution_count": 5,
   "metadata": {},
   "outputs": [
    {
     "name": "stdout",
     "output_type": "stream",
     "text": [
      "WARNING:tensorflow:From /data/home/dorads/miniconda3/envs/sd_lmu/lib/python3.7/site-packages/tensorflow_core/python/ops/resource_variable_ops.py:1630: calling BaseResourceVariable.__init__ (from tensorflow.python.ops.resource_variable_ops) with constraint is deprecated and will be removed in a future version.\n",
      "Instructions for updating:\n",
      "If using Keras pass *_constraint arguments to layers.\n",
      "Model: \"sequential_1\"\n",
      "_________________________________________________________________\n",
      "Layer (type)                 Output Shape              Param #   \n",
      "=================================================================\n",
      "rnn_1 (RNN)                  (None, 212)               58569     \n",
      "_________________________________________________________________\n",
      "dense_1 (Dense)              (None, 10)                2130      \n",
      "=================================================================\n",
      "Total params: 60,699\n",
      "Trainable params: 58,149\n",
      "Non-trainable params: 2,550\n",
      "_________________________________________________________________\n"
     ]
    }
   ],
   "source": [
    "n_pixels = 785 - 1\n",
    "assert n_pixels == 28**2\n",
    "\n",
    "def laguerre_layer(**kwargs):\n",
    "    return RNN(LaguerreCell(units=212,\n",
    "                        order=50,\n",
    "                        a = 0.95,\n",
    "                        theta=n_pixels,\n",
    "                        input_encoders_initializer=Constant(1),\n",
    "                        hidden_encoders_initializer=Constant(0),\n",
    "                        memory_encoders_initializer=Constant(0),\n",
    "                        input_kernel_initializer=Constant(0),\n",
    "                        hidden_kernel_initializer=Constant(0),\n",
    "                        memory_kernel_initializer='glorot_normal',\n",
    "                      ),\n",
    "               return_sequences=False,\n",
    "               **kwargs)\n",
    "\n",
    "model = Sequential()\n",
    "model.add(laguerre_layer(\n",
    "    input_shape=X_train.shape[1:],  # (nr. of pixels, 1)\n",
    "))\n",
    "model.add(Dense(10, activation='softmax'))\n",
    "\n",
    "# model = multi_gpu_model(model, gpus=4)\n",
    "\n",
    "model.compile(loss=\"categorical_crossentropy\", optimizer='adam', metrics=['accuracy'])\n",
    "model.summary()"
   ]
  },
  {
   "cell_type": "code",
   "execution_count": 6,
   "metadata": {},
   "outputs": [
    {
     "name": "stdout",
     "output_type": "stream",
     "text": [
      "/data/home/dorads/Documents/GitHub_Repos/01_Maintained/NeuralODE/test/lmu_test/models/psMNIST-laguerre.hdf5\n",
      "WARNING:tensorflow:From /data/home/dorads/miniconda3/envs/sd_lmu/lib/python3.7/site-packages/keras/backend/tensorflow_backend.py:422: The name tf.global_variables is deprecated. Please use tf.compat.v1.global_variables instead.\n",
      "\n",
      "Train on 50000 samples, validate on 10000 samples\n",
      "Epoch 1/10\n",
      "50000/50000 [==============================] - 323s 6ms/step - loss: 0.7811 - accuracy: 0.7520 - val_loss: 0.5630 - val_accuracy: 0.8288\n",
      "\n",
      "Epoch 00001: val_loss improved from inf to 0.56302, saving model to /data/home/dorads/Documents/GitHub_Repos/01_Maintained/NeuralODE/test/lmu_test/models/psMNIST-laguerre.hdf5\n",
      "Epoch 2/10\n",
      "50000/50000 [==============================] - 320s 6ms/step - loss: 0.4793 - accuracy: 0.8490 - val_loss: 0.4258 - val_accuracy: 0.8650\n",
      "\n",
      "Epoch 00002: val_loss improved from 0.56302 to 0.42575, saving model to /data/home/dorads/Documents/GitHub_Repos/01_Maintained/NeuralODE/test/lmu_test/models/psMNIST-laguerre.hdf5\n",
      "Epoch 3/10\n",
      "50000/50000 [==============================] - 320s 6ms/step - loss: 0.3702 - accuracy: 0.8836 - val_loss: 0.3581 - val_accuracy: 0.8900\n",
      "\n",
      "Epoch 00003: val_loss improved from 0.42575 to 0.35805, saving model to /data/home/dorads/Documents/GitHub_Repos/01_Maintained/NeuralODE/test/lmu_test/models/psMNIST-laguerre.hdf5\n",
      "Epoch 4/10\n",
      "50000/50000 [==============================] - 320s 6ms/step - loss: 0.3219 - accuracy: 0.8990 - val_loss: 0.3077 - val_accuracy: 0.9041\n",
      "\n",
      "Epoch 00004: val_loss improved from 0.35805 to 0.30769, saving model to /data/home/dorads/Documents/GitHub_Repos/01_Maintained/NeuralODE/test/lmu_test/models/psMNIST-laguerre.hdf5\n",
      "Epoch 5/10\n",
      "50000/50000 [==============================] - 323s 6ms/step - loss: 0.2706 - accuracy: 0.9145 - val_loss: 0.3216 - val_accuracy: 0.8989\n",
      "\n",
      "Epoch 00005: val_loss did not improve from 0.30769\n",
      "Epoch 6/10\n",
      "50000/50000 [==============================] - 322s 6ms/step - loss: 0.2450 - accuracy: 0.9210 - val_loss: 0.2876 - val_accuracy: 0.9077\n",
      "\n",
      "Epoch 00006: val_loss improved from 0.30769 to 0.28764, saving model to /data/home/dorads/Documents/GitHub_Repos/01_Maintained/NeuralODE/test/lmu_test/models/psMNIST-laguerre.hdf5\n",
      "Epoch 7/10\n",
      "50000/50000 [==============================] - 326s 7ms/step - loss: 0.2287 - accuracy: 0.9264 - val_loss: 0.2819 - val_accuracy: 0.9095\n",
      "\n",
      "Epoch 00007: val_loss improved from 0.28764 to 0.28186, saving model to /data/home/dorads/Documents/GitHub_Repos/01_Maintained/NeuralODE/test/lmu_test/models/psMNIST-laguerre.hdf5\n",
      "Epoch 8/10\n",
      "50000/50000 [==============================] - 326s 7ms/step - loss: 0.2093 - accuracy: 0.9330 - val_loss: 0.2881 - val_accuracy: 0.9098\n",
      "\n",
      "Epoch 00008: val_loss did not improve from 0.28186\n",
      "Epoch 9/10\n",
      "50000/50000 [==============================] - 326s 7ms/step - loss: 0.2024 - accuracy: 0.9351 - val_loss: 0.2574 - val_accuracy: 0.9211\n",
      "\n",
      "Epoch 00009: val_loss improved from 0.28186 to 0.25736, saving model to /data/home/dorads/Documents/GitHub_Repos/01_Maintained/NeuralODE/test/lmu_test/models/psMNIST-laguerre.hdf5\n",
      "Epoch 10/10\n",
      "50000/50000 [==============================] - 329s 7ms/step - loss: 0.1827 - accuracy: 0.9410 - val_loss: 0.2499 - val_accuracy: 0.9210\n",
      "\n",
      "Epoch 00010: val_loss improved from 0.25736 to 0.24987, saving model to /data/home/dorads/Documents/GitHub_Repos/01_Maintained/NeuralODE/test/lmu_test/models/psMNIST-laguerre.hdf5\n",
      "Took 54.15 min\n"
     ]
    }
   ],
   "source": [
    "import time\n",
    "\n",
    "batch_size = 100\n",
    "epochs = 10\n",
    "fname = os.path.abspath('models/psMNIST-laguerre.hdf5')\n",
    "print(fname)\n",
    "\n",
    "callbacks = [\n",
    "    # CSVLogger('log-ctn19-pmnist-dn-090419.csv', append=True, separator=';')\n",
    "    # EarlyStopping(monitor='val_loss', min_delta=1e-6, patience=5),\n",
    "    ModelCheckpoint(filepath=fname, monitor='val_loss', verbose=1, save_best_only=True),\n",
    "]\n",
    "\n",
    "t = time.time()\n",
    "\n",
    "result = model.fit(\n",
    "    X_train,\n",
    "    to_categorical(Y_train),\n",
    "    epochs=epochs,\n",
    "    batch_size=batch_size,\n",
    "    validation_data=(X_valid, to_categorical(Y_valid)),\n",
    "    callbacks=callbacks,\n",
    ")\n",
    "\n",
    "print(\"Took {:.2f} min\".format((time.time() - t) / 60))"
   ]
  },
  {
   "cell_type": "code",
   "execution_count": null,
   "metadata": {},
   "outputs": [],
   "source": [
    "plt.figure()\n",
    "plt.plot(result.history['val_accuracy'], label=\"Validation\")\n",
    "plt.plot(result.history['accuracy'], label=\"Training\")\n",
    "plt.legend()\n",
    "plt.xlabel(\"Epoch\")\n",
    "plt.ylabel(\"Accuracy\")\n",
    "plt.title(\"psMNIST - Laguerre Cell\")\n",
    "plt.show()"
   ]
  },
  {
   "cell_type": "code",
   "execution_count": null,
   "metadata": {},
   "outputs": [],
   "source": [
    "n_pixels = 785 - 1\n",
    "assert n_pixels == 28**2\n",
    "\n",
    "def LMU_layer(**kwargs):\n",
    "    return RNN(LMUCell(units=212,\n",
    "                       order=256,\n",
    "                       theta=n_pixels,\n",
    "                       input_encoders_initializer=Constant(1),\n",
    "                       hidden_encoders_initializer=Constant(0),\n",
    "                       memory_encoders_initializer=Constant(0),\n",
    "                       input_kernel_initializer=Constant(0),\n",
    "                       hidden_kernel_initializer=Constant(0),\n",
    "                       memory_kernel_initializer='glorot_normal',\n",
    "                      ),\n",
    "               return_sequences=False,\n",
    "               **kwargs)\n",
    "\n",
    "model = Sequential()\n",
    "model.add(LMU_layer(\n",
    "    input_shape=X_train.shape[1:],  # (nr. of pixels, 1)\n",
    "))\n",
    "model.add(Dense(10, activation='softmax'))\n",
    "\n",
    "# model = multi_gpu_model(model, gpus=4)\n",
    "\n",
    "model.compile(loss=\"categorical_crossentropy\", optimizer='adam', metrics=['accuracy'])\n",
    "model.summary()"
   ]
  },
  {
   "cell_type": "code",
   "execution_count": null,
   "metadata": {},
   "outputs": [],
   "source": [
    "### import time\n",
    "\n",
    "batch_size = 100\n",
    "epochs = 10\n",
    "fname = os.path.abspath('models/psMNIST-LMU.hdf5')\n",
    "print(fname)\n",
    "\n",
    "callbacks = [\n",
    "    # CSVLogger('log-ctn19-pmnist-dn-090419.csv', append=True, separator=';')\n",
    "    # EarlyStopping(monitor='val_loss', min_delta=1e-6, patience=5),\n",
    "    ModelCheckpoint(filepath=fname, monitor='val_loss', verbose=1, save_best_only=True),\n",
    "]\n",
    "\n",
    "t = time.time()\n",
    "\n",
    "result = model.fit(\n",
    "    X_train,\n",
    "    to_categorical(Y_train),\n",
    "    epochs=epochs,\n",
    "    batch_size=batch_size,\n",
    "    validation_data=(X_valid, to_categorical(Y_valid)),\n",
    "    callbacks=callbacks,\n",
    ")\n",
    "\n",
    "print(\"Took {:.2f} min\".format((time.time() - t) / 60))"
   ]
  }
 ],
 "metadata": {
  "kernelspec": {
   "display_name": "Python 3",
   "language": "python",
   "name": "python3"
  },
  "language_info": {
   "codemirror_mode": {
    "name": "ipython",
    "version": 3
   },
   "file_extension": ".py",
   "mimetype": "text/x-python",
   "name": "python",
   "nbconvert_exporter": "python",
   "pygments_lexer": "ipython3",
   "version": "3.7.7"
  }
 },
 "nbformat": 4,
 "nbformat_minor": 4
}
