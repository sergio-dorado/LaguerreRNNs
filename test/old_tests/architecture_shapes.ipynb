{
 "cells": [
  {
   "cell_type": "code",
   "execution_count": 4,
   "metadata": {},
   "outputs": [
    {
     "data": {
      "text/plain": [
       "'1.15.3'"
      ]
     },
     "execution_count": 4,
     "metadata": {},
     "output_type": "execute_result"
    }
   ],
   "source": [
    "tf.__version__"
   ]
  },
  {
   "cell_type": "code",
   "execution_count": 3,
   "metadata": {},
   "outputs": [
    {
     "name": "stdout",
     "output_type": "stream",
     "text": [
      "AT : (2, 2)\n",
      "BT : (4, 2)\n",
      "CT : (2, 4)\n",
      "3\n",
      "inp: (1, 4)\n",
      "states: <class 'list'>\n",
      "states: [<tf.Tensor 'ones_5:0' shape=(1, 5) dtype=float32>, <tf.Tensor 'ones_6:0' shape=(1, 4) dtype=float32>, <tf.Tensor 'ones_7:0' shape=(1, 2) dtype=float32>]\n",
      "h: (1, 5)\n",
      "x: (1, 2)\n",
      "m: (1, 4)\n",
      "h: (1, 5)\n",
      "x: (1, 2)\n",
      "m: (1, 4)\n",
      "u: (1, 4)\n",
      "x (after update): (1, 2)\n",
      "m (after update): (1, 4)\n",
      "f (after computation): (1, 4)\n",
      "AT : (2, 2)\n",
      "BT : (4, 2)\n",
      "CT : (2, 4)\n",
      "3\n",
      "inp: (1, 4)\n",
      "states: <class 'list'>\n",
      "states: [<tf.Tensor 'ones_5:0' shape=(1, 5) dtype=float32>, <tf.Tensor 'ones_6:0' shape=(1, 4) dtype=float32>, <tf.Tensor 'ones_7:0' shape=(1, 2) dtype=float32>]\n",
      "h: (1, 5)\n",
      "x: (1, 2)\n",
      "m: (1, 4)\n",
      "h: (1, 5)\n",
      "x: (1, 2)\n",
      "m: (1, 4)\n",
      "u: (1, 4)\n",
      "x (after update): (1, 2)\n",
      "m (after update): (1, 4)\n",
      "f (after computation): (1, 4)\n",
      "AT : (2, 2)\n",
      "BT : (4, 2)\n",
      "CT : (2, 4)\n",
      "3\n",
      "inp: (1, 4)\n",
      "states: <class 'list'>\n",
      "states: [<tf.Tensor 'ones_5:0' shape=(1, 5) dtype=float32>, <tf.Tensor 'ones_6:0' shape=(1, 4) dtype=float32>, <tf.Tensor 'ones_7:0' shape=(1, 2) dtype=float32>]\n",
      "h: (1, 5)\n",
      "x: (1, 2)\n",
      "m: (1, 4)\n",
      "h: (1, 5)\n",
      "x: (1, 2)\n",
      "m: (1, 4)\n",
      "u: (1, 4)\n",
      "x (after update): (1, 2)\n",
      "m (after update): (1, 4)\n",
      "f (after computation): (1, 4)\n",
      "y1 : Tensor(\"orthogonal_cell_3/Tanh:0\", shape=(1, 5), dtype=float32)\n",
      "y2 : Tensor(\"orthogonal_cell_4/Tanh:0\", shape=(1, 5), dtype=float32)\n",
      "y3: Tensor(\"orthogonal_cell_5/Tanh:0\", shape=(1, 5), dtype=float32)\n"
     ]
    }
   ],
   "source": [
    "from architectures import *\n",
    "import tensorflow as tf\n",
    "\n",
    "x = tf.ones(shape = (1, 4))\n",
    "\n",
    "st = [tf.ones(shape = (1, 5)), # h\n",
    "      tf.ones(shape = (1, 4)), # m \n",
    "      tf.ones(shape = (1, 2))] # x\n",
    "\n",
    "orthogonal_layer_1 = OrthogonalCell(units = 5,\n",
    "                             variant = 'ct_laguerre',\n",
    "                                   verbose = True)\n",
    "orthogonal_layer_2 = OrthogonalCell(units = 5,\n",
    "                                   variant = 'dt_laguerre',\n",
    "                                   verbose = True)\n",
    "orthogonal_layer_3 = OrthogonalCell(units = 5,\n",
    "                                   variant = 'ct_legendre',\n",
    "                                   verbose = True)\n",
    "\n",
    "y1, _ = orthogonal_layer_1(x, st)\n",
    "y2, _ = orthogonal_layer_2(x, st)\n",
    "y3, _ = orthogonal_layer_3(x, st)\n",
    "\n",
    "print(f\"y1 : {y1}\")\n",
    "print(f\"y2 : {y2}\")\n",
    "print(f\"y3: {y3}\")"
   ]
  },
  {
   "cell_type": "code",
   "execution_count": null,
   "metadata": {},
   "outputs": [],
   "source": []
  }
 ],
 "metadata": {
  "kernelspec": {
   "display_name": "Python 3",
   "language": "python",
   "name": "python3"
  },
  "language_info": {
   "codemirror_mode": {
    "name": "ipython",
    "version": 3
   },
   "file_extension": ".py",
   "mimetype": "text/x-python",
   "name": "python",
   "nbconvert_exporter": "python",
   "pygments_lexer": "ipython3",
   "version": "3.7.7"
  }
 },
 "nbformat": 4,
 "nbformat_minor": 4
}
