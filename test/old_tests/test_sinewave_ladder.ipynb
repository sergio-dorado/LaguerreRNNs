{
 "cells": [
  {
   "cell_type": "markdown",
   "metadata": {},
   "source": [
    "## Creating Synthetic Training Data"
   ]
  },
  {
   "cell_type": "code",
   "execution_count": 1,
   "metadata": {},
   "outputs": [],
   "source": [
    "import numpy as np\n",
    "import tensorflow as tf\n",
    "import pandas as pd\n",
    "import matplotlib.pyplot as plt\n",
    "\n",
    "t = np.arange(0, 50, 0.1)\n",
    "y = np.sin(t)\n",
    "\n",
    "y_all = pd.DataFrame(y, index = t)\n",
    "\n",
    "# Splitting into training and testing data sets\n",
    "# 10% of the data for the\n",
    "test_split = 0.1\n",
    "test_index = int(len(y_all) - np.round(len(y_all)*test_split))\n",
    "\n",
    "train = y_all.iloc[:test_index]\n",
    "test = y_all.iloc[test_index:]"
   ]
  },
  {
   "cell_type": "code",
   "execution_count": 2,
   "metadata": {},
   "outputs": [],
   "source": [
    "from sklearn.preprocessing import MinMaxScaler\n",
    "scaler = MinMaxScaler();\n",
    "scaler.fit(train);\n",
    "scaled_train = scaler.transform(train)\n",
    "scaled_test = scaler.transform(test)"
   ]
  },
  {
   "cell_type": "code",
   "execution_count": 3,
   "metadata": {},
   "outputs": [],
   "source": [
    "from tensorflow.keras.preprocessing.sequence import TimeseriesGenerator\n",
    "# define generator\n",
    "length = 49 # Length of the output sequences (in number of timesteps)\n",
    "batch_size = 1 #Number of timeseries samples in each batch\n",
    "generator = TimeseriesGenerator(scaled_train, scaled_train, length=length, batch_size = batch_size)\n",
    "\n",
    "validation_generator = TimeseriesGenerator(scaled_test, scaled_test, length = length, batch_size = batch_size)"
   ]
  },
  {
   "cell_type": "code",
   "execution_count": 4,
   "metadata": {},
   "outputs": [],
   "source": [
    "from tensorflow.keras.models import Sequential\n",
    "from tensorflow.keras.layers import RNN, Dense, LSTM, LSTMCell\n",
    "from tensorflow.keras.callbacks import EarlyStopping\n",
    "from architectures_v1 import *"
   ]
  },
  {
   "cell_type": "code",
   "execution_count": 5,
   "metadata": {},
   "outputs": [
    {
     "name": "stdout",
     "output_type": "stream",
     "text": [
      "WARNING:tensorflow:From /Users/sergio.dorado/miniconda3/envs/sd_dev_tf_1/lib/python3.7/site-packages/tensorflow_core/python/ops/resource_variable_ops.py:1630: calling BaseResourceVariable.__init__ (from tensorflow.python.ops.resource_variable_ops) with constraint is deprecated and will be removed in a future version.\n",
      "Instructions for updating:\n",
      "If using Keras pass *_constraint arguments to layers.\n",
      "Model: \"sequential\"\n",
      "_________________________________________________________________\n",
      "Layer (type)                 Output Shape              Param #   \n",
      "=================================================================\n",
      "rnn (RNN)                    (None, 50)                7856      \n",
      "_________________________________________________________________\n",
      "dense (Dense)                (None, 1)                 51        \n",
      "=================================================================\n",
      "Total params: 7,907\n",
      "Trainable params: 5,202\n",
      "Non-trainable params: 2,705\n",
      "_________________________________________________________________\n",
      "Epoch 1/200\n",
      "399/401 [============================>.] - ETA: 0s - loss: 0.0161Epoch 1/200\n",
      "401/401 [==============================] - 6s 16ms/step - loss: 0.0160 - val_loss: 3.6434e-04\n",
      "Epoch 2/200\n",
      "400/401 [============================>.] - ETA: 0s - loss: 1.2449e-04Epoch 1/200\n",
      "401/401 [==============================] - 7s 17ms/step - loss: 1.2440e-04 - val_loss: 8.4168e-06\n",
      "Epoch 3/200\n",
      "399/401 [============================>.] - ETA: 0s - loss: 0.0072Epoch 1/200\n",
      "401/401 [==============================] - 8s 20ms/step - loss: 0.0071 - val_loss: 2.8049e-04\n",
      "Epoch 4/200\n",
      "398/401 [============================>.] - ETA: 0s - loss: 5.7715e-05Epoch 1/200\n",
      "401/401 [==============================] - 8s 20ms/step - loss: 5.7459e-05 - val_loss: 3.2779e-07\n",
      "Epoch 5/200\n",
      "399/401 [============================>.] - ETA: 0s - loss: 2.1102e-05Epoch 1/200\n",
      "401/401 [==============================] - 8s 21ms/step - loss: 2.1011e-05 - val_loss: 2.1821e-05\n",
      "Epoch 6/200\n",
      "399/401 [============================>.] - ETA: 0s - loss: 1.0995e-05Epoch 1/200\n",
      "401/401 [==============================] - 9s 22ms/step - loss: 1.0999e-05 - val_loss: 6.7784e-08\n",
      "Epoch 7/200\n",
      "399/401 [============================>.] - ETA: 0s - loss: 3.0151e-04Epoch 1/200\n",
      "401/401 [==============================] - 9s 22ms/step - loss: 3.0083e-04 - val_loss: 1.3521e-05\n",
      "Epoch 8/200\n",
      "398/401 [============================>.] - ETA: 0s - loss: 0.0020Epoch 1/200\n",
      "401/401 [==============================] - 11s 27ms/step - loss: 0.0020 - val_loss: 3.7484e-04\n"
     ]
    },
    {
     "data": {
      "text/plain": [
       "<tensorflow.python.keras.callbacks.History at 0x7fa00802fd90>"
      ]
     },
     "execution_count": 5,
     "metadata": {},
     "output_type": "execute_result"
    }
   ],
   "source": [
    "n_features = 1\n",
    "\n",
    "early_stop = EarlyStopping(monitor = 'val_loss', patience = 2)\n",
    "\n",
    "model = Sequential()\n",
    "model.add(RNN(LadderCell(units = 50,\n",
    "                            max_delay = 50,\n",
    "                            input_dims = n_features), input_shape = (length, n_features)))\n",
    "# Final Prediction\n",
    "model.add(Dense(1))\n",
    "\n",
    "model.compile(optimizer='adam', loss='mse')\n",
    "\n",
    "model.summary()\n",
    "\n",
    "model.fit_generator(generator, epochs = 200, validation_data = validation_generator, callbacks = [early_stop])"
   ]
  },
  {
   "cell_type": "code",
   "execution_count": 6,
   "metadata": {},
   "outputs": [
    {
     "name": "stdout",
     "output_type": "stream",
     "text": [
      "Model: \"sequential_1\"\n",
      "_________________________________________________________________\n",
      "Layer (type)                 Output Shape              Param #   \n",
      "=================================================================\n",
      "rnn_1 (RNN)                  (None, 50)                10400     \n",
      "_________________________________________________________________\n",
      "dense_1 (Dense)              (None, 1)                 51        \n",
      "=================================================================\n",
      "Total params: 10,451\n",
      "Trainable params: 10,451\n",
      "Non-trainable params: 0\n",
      "_________________________________________________________________\n",
      "Epoch 1/200\n",
      "WARNING:tensorflow:From /Users/sergio.dorado/miniconda3/envs/sd_dev_tf_1/lib/python3.7/site-packages/tensorflow_core/python/ops/math_grad.py:1424: where (from tensorflow.python.ops.array_ops) is deprecated and will be removed in a future version.\n",
      "Instructions for updating:\n",
      "Use tf.where in 2.0, which has the same broadcast rule as np.where\n",
      "400/401 [============================>.] - ETA: 0s - loss: 0.0137Epoch 1/200\n",
      "401/401 [==============================] - 25s 64ms/step - loss: 0.0137 - val_loss: 1.3440e-04\n",
      "Epoch 2/200\n",
      "400/401 [============================>.] - ETA: 0s - loss: 1.3843e-04Epoch 1/200\n",
      "401/401 [==============================] - 27s 67ms/step - loss: 1.3901e-04 - val_loss: 3.8696e-05\n",
      "Epoch 3/200\n",
      "400/401 [============================>.] - ETA: 0s - loss: 1.8914e-04Epoch 1/200\n",
      "401/401 [==============================] - 26s 64ms/step - loss: 1.8870e-04 - val_loss: 3.6589e-05\n",
      "Epoch 4/200\n",
      "400/401 [============================>.] - ETA: 0s - loss: 1.3774e-04Epoch 1/200\n",
      "401/401 [==============================] - 24s 60ms/step - loss: 1.3755e-04 - val_loss: 1.0969e-04\n",
      "Epoch 5/200\n",
      "400/401 [============================>.] - ETA: 0s - loss: 1.6187e-04Epoch 1/200\n",
      "401/401 [==============================] - 26s 65ms/step - loss: 1.6147e-04 - val_loss: 9.7198e-07\n",
      "Epoch 6/200\n",
      "400/401 [============================>.] - ETA: 0s - loss: 2.3867e-04Epoch 1/200\n",
      "401/401 [==============================] - 28s 69ms/step - loss: 2.3808e-04 - val_loss: 1.3255e-06\n",
      "Epoch 7/200\n",
      "400/401 [============================>.] - ETA: 0s - loss: 2.6246e-04Epoch 1/200\n",
      "401/401 [==============================] - 28s 69ms/step - loss: 2.6186e-04 - val_loss: 1.1300e-04\n"
     ]
    },
    {
     "data": {
      "text/plain": [
       "<tensorflow.python.keras.callbacks.History at 0x7fa008e89110>"
      ]
     },
     "execution_count": 6,
     "metadata": {},
     "output_type": "execute_result"
    }
   ],
   "source": [
    "n_features = 1\n",
    "\n",
    "early_stop = EarlyStopping(monitor = 'val_loss', patience = 2)\n",
    "\n",
    "model_trad = Sequential()\n",
    "model_trad.add(RNN(tf.keras.layers.LSTMCell(units = 50), input_shape = (length, n_features)))\n",
    "#model.add(RNN(tf.keras.layers.LSTMCell(4), input_shape = (length, n_features)))\n",
    "\n",
    "# Final Prediction\n",
    "model_trad.add(Dense(1))\n",
    "\n",
    "model_trad.compile(optimizer='adam', loss='mse')\n",
    "\n",
    "model_trad.summary()\n",
    "\n",
    "model_trad.fit_generator(generator, epochs = 200, validation_data = validation_generator, callbacks = [early_stop])"
   ]
  },
  {
   "cell_type": "code",
   "execution_count": 7,
   "metadata": {},
   "outputs": [
    {
     "name": "stderr",
     "output_type": "stream",
     "text": [
      "/Users/sergio.dorado/miniconda3/envs/sd_dev_tf_1/lib/python3.7/site-packages/ipykernel_launcher.py:18: SettingWithCopyWarning: \n",
      "A value is trying to be set on a copy of a slice from a DataFrame.\n",
      "Try using .loc[row_indexer,col_indexer] = value instead\n",
      "\n",
      "See the caveats in the documentation: https://pandas.pydata.org/pandas-docs/stable/user_guide/indexing.html#returning-a-view-versus-a-copy\n",
      "/Users/sergio.dorado/miniconda3/envs/sd_dev_tf_1/lib/python3.7/site-packages/ipykernel_launcher.py:37: SettingWithCopyWarning: \n",
      "A value is trying to be set on a copy of a slice from a DataFrame.\n",
      "Try using .loc[row_indexer,col_indexer] = value instead\n",
      "\n",
      "See the caveats in the documentation: https://pandas.pydata.org/pandas-docs/stable/user_guide/indexing.html#returning-a-view-versus-a-copy\n"
     ]
    },
    {
     "data": {
      "text/plain": [
       "<matplotlib.axes._subplots.AxesSubplot at 0x7f9fea545590>"
      ]
     },
     "execution_count": 7,
     "metadata": {},
     "output_type": "execute_result"
    },
    {
     "data": {
      "image/png": "[encoded data removed]",
      "text/plain": [
       "<Figure size 432x288 with 1 Axes>"
      ]
     },
     "metadata": {
      "needs_background": "light"
     },
     "output_type": "display_data"
    }
   ],
   "source": [
    "test_predictions = []\n",
    "\n",
    "first_eval_batch = scaled_train[-length:]\n",
    "current_batch = first_eval_batch.reshape((1, length, n_features))\n",
    "\n",
    "for _ in range(len(test)):\n",
    "    \n",
    "    # get prediction 1 time stamp ahead ([0] is for grabbing just the number instead of [array])\n",
    "    current_pred = model.predict(current_batch)[0]\n",
    "    \n",
    "    # store prediction\n",
    "    test_predictions.append(current_pred) \n",
    "    \n",
    "    # update batch to now include prediction and drop first value\n",
    "    current_batch = np.append(current_batch[:, 1: ,:],[[current_pred]], axis = 1)\n",
    "    \n",
    "true_predictions = scaler.inverse_transform(test_predictions)\n",
    "test['Ladder'] = true_predictions\n",
    "\n",
    "test_predictions = []\n",
    "\n",
    "first_eval_batch = scaled_train[-length:]\n",
    "current_batch = first_eval_batch.reshape((1, length, n_features))\n",
    "\n",
    "for _ in range(len(test)):\n",
    "    \n",
    "    # get prediction 1 time stamp ahead ([0] is for grabbing just the number instead of [array])\n",
    "    current_pred = model_trad.predict(current_batch)[0]\n",
    "    \n",
    "    # store prediction\n",
    "    test_predictions.append(current_pred) \n",
    "    \n",
    "    # update batch to now include prediction and drop first value\n",
    "    current_batch = np.append(current_batch[:, 1: ,:],[[current_pred]], axis = 1)\n",
    "    \n",
    "true_predictions = scaler.inverse_transform(test_predictions)\n",
    "test['LSTM'] = true_predictions\n",
    "\n",
    "test.plot()"
   ]
  }
 ],
 "metadata": {
  "kernelspec": {
   "display_name": "Python 3",
   "language": "python",
   "name": "python3"
  },
  "language_info": {
   "codemirror_mode": {
    "name": "ipython",
    "version": 3
   },
   "file_extension": ".py",
   "mimetype": "text/x-python",
   "name": "python",
   "nbconvert_exporter": "python",
   "pygments_lexer": "ipython3",
   "version": "3.7.7"
  }
 },
 "nbformat": 4,
 "nbformat_minor": 4
}
