{
 "cells": [
  {
   "cell_type": "code",
   "execution_count": 1,
   "metadata": {},
   "outputs": [],
   "source": [
    "import numpy as np\n",
    "import matplotlib.pyplot as plt\n",
    "from scipy.integrate import odeint\n",
    "\n",
    "import os\n",
    "import random\n",
    "from sklearn.model_selection import train_test_split\n",
    "\n",
    "from utils import *\n",
    "from architectures_v1 import *\n",
    "from datasets import *\n",
    "\n",
    "from tensorflow.keras.models import Sequential\n",
    "from tensorflow.keras.layers import Dense, RNN, TimeDistributed, GRU, LSTM\n",
    "from tensorflow.keras.optimizers import RMSprop\n",
    "from tensorflow.keras.callbacks import ModelCheckpoint, EarlyStopping, ReduceLROnPlateau"
   ]
  },
  {
   "cell_type": "code",
   "execution_count": 2,
   "metadata": {},
   "outputs": [],
   "source": [
    "def pend(x, t, u, b, c):\n",
    "    x1, x2 = x\n",
    "    dxdt = [x2, -b*x2 - c*np.sin(x1) + u]\n",
    "    return dxdt\n",
    "\n",
    "def fluid_flow(x, t, u, mu, omega, A, l):\n",
    "    x1, x2, x3 = x \n",
    "    dxdt = [mu*x1 - omega*x1 + A*x1*x3 + u,\n",
    "           omega*x1 - omega*x2 + A*x2*x3,\n",
    "           -l*(x3 - x1**2 - x2**2)]\n",
    "    return dxdt"
   ]
  },
  {
   "cell_type": "code",
   "execution_count": 3,
   "metadata": {},
   "outputs": [
    {
     "name": "stdout",
     "output_type": "stream",
     "text": [
      "X: (100, 200, 3)\n",
      "Y: (100, 200, 3)\n"
     ]
    }
   ],
   "source": [
    "# Function to generate input/output data\n",
    "def generate_data_IO(t, n_instances, n_states, dyn_system = \"Pendulum\", **kwargs):\n",
    "    \n",
    "    if dyn_system == \"Pendulum\":\n",
    "        if 'b' not in kwargs.keys() or 'c' not in kwargs.keys():\n",
    "            b = 0.5\n",
    "            c = 1.0\n",
    "        else:\n",
    "            b = kwargs['b']\n",
    "            c = kwargs['c']\n",
    "    elif dyn_system == \"FluidFlow\":\n",
    "        if 'mu' not in kwargs.keys() or 'omega' not in kwargs.keys() or 'A' not in kwargs.keys() or 'l' not in kwargs.keys():\n",
    "            mu = 0.1\n",
    "            omega = 1.0\n",
    "            A = -0.1\n",
    "            l = 10\n",
    "        else:\n",
    "            mu = kwargs['mu']\n",
    "            omega = kwargs['omega']\n",
    "            A = kwargs['A']\n",
    "            l = kwargs['l']\n",
    "\n",
    "    # Creating containers for the inputs and the outputs (i.e., random inputs and states) given a number of instances\n",
    "    Y = np.zeros(shape = (n_instances, t.shape[0], n_states))\n",
    "\n",
    "    # Container for inputs to the NN\n",
    "    X = np.zeros(shape = (n_instances, t.shape[0], n_states))\n",
    "\n",
    "    for n_inst in range(n_instances):\n",
    "\n",
    "        u = np.random.rand(t.shape[0], )\n",
    "\n",
    "        # Creating random initial state\n",
    "        x0 = np.random.rand(n_states, )\n",
    "\n",
    "        X[n_inst, 0, :] = x0\n",
    "        Y[0, 0, :] = x0\n",
    "\n",
    "        for k in range(len(t) - 1):\n",
    "\n",
    "            # Integration time\n",
    "            t_int = np.linspace(t[k], t[k+1], 500)\n",
    "            \n",
    "            if dyn_system == \"Pendulum\":\n",
    "                # Integration\n",
    "                x_int = odeint(pend, x0, t_int, args = (u[k], b, c))\n",
    "            elif dyn_system == \"FluidFlow\":\n",
    "                # Integration\n",
    "                x_int = odeint(fluid_flow, x0, t_int, args = (u[k], mu, omega, A, l))\n",
    "                \n",
    "            # Extracting the outputs\n",
    "            for state in range(x_int.shape[-1]):\n",
    "                Y[n_inst, k+1, state] = x_int[-1, state]\n",
    "\n",
    "            # Updating initial condition for next integration\n",
    "            x0 = x_int[-1, :]\n",
    "\n",
    "        # Storing input in container for NN input\n",
    "        X[n_inst, 1:, 0] = u[:k+1]\n",
    "    \n",
    "    return X, Y\n",
    "\n",
    "t = np.linspace(0, 20, 200)\n",
    "dt = max(t)/len(t)\n",
    "\n",
    "X, Y = generate_data_IO(t = t, n_instances = 100, n_states = 3, dyn_system = \"FluidFlow\")\n",
    "print(f\"X: {X.shape}\")\n",
    "print(f\"Y: {Y.shape}\")"
   ]
  },
  {
   "cell_type": "code",
   "execution_count": 4,
   "metadata": {},
   "outputs": [
    {
     "name": "stdout",
     "output_type": "stream",
     "text": [
      "X_train: (1, 200, 3) - Y_train: (1, 200, 3)\n",
      "X_test: (1, 200, 3) - Y_test: (1, 200, 3)\n",
      "X_valid: (1, 200, 3) - Y_valid: (1, 200, 3)\n"
     ]
    }
   ],
   "source": [
    "X_train = np.reshape(X[0, :, :], [1, X.shape[1], X.shape[-1]])\n",
    "X_test = np.reshape(X[1, :, :], [1, X.shape[1], X.shape[-1]])\n",
    "X_valid = np.reshape(X[-1, :, :], [1, X.shape[1], X.shape[-1]])\n",
    "\n",
    "Y_train = np.reshape(Y[0, :, :], [1, Y.shape[1], Y.shape[-1]])\n",
    "Y_test = np.reshape(Y[1, :, :], [1, Y.shape[1], Y.shape[-1]])\n",
    "Y_valid = np.reshape(Y[-1, :, :], [1, Y.shape[1], Y.shape[-1]])\n",
    "\n",
    "print(f\"X_train: {X_train.shape} - Y_train: {Y_train.shape}\")\n",
    "print(f\"X_test: {X_test.shape} - Y_test: {Y_test.shape}\")\n",
    "print(f\"X_valid: {X_valid.shape} - Y_valid: {Y_valid.shape}\")"
   ]
  },
  {
   "cell_type": "code",
   "execution_count": 5,
   "metadata": {},
   "outputs": [
    {
     "name": "stdout",
     "output_type": "stream",
     "text": [
      "X_train: (72, 200, 3) - Y_train: (72, 200, 3)\n",
      "X_test: (18, 200, 3) - Y_test: (18, 200, 3)\n",
      "X_valid: (10, 200, 3) - Y_valid: (10, 200, 3)\n"
     ]
    }
   ],
   "source": [
    "n_instances = X.shape[0]\n",
    "n_validation = int(0.1*X.shape[0])\n",
    "ind_validation = random.sample(range(0, n_instances), n_validation)\n",
    "\n",
    "X_valid = X[ind_validation, :, :]\n",
    "Y_valid = Y[ind_validation, :, :]\n",
    "\n",
    "X_all = np.delete(X, ind_validation, axis = 0)\n",
    "Y_all = np.delete(Y, ind_validation, axis = 0)\n",
    "\n",
    "X_train, X_test, Y_train, Y_test = train_test_split(X_all, Y_all, test_size = 0.2, random_state = 42)\n",
    "\n",
    "print(f\"X_train: {X_train.shape} - Y_train: {Y_train.shape}\")\n",
    "print(f\"X_test: {X_test.shape} - Y_test: {Y_test.shape}\")\n",
    "print(f\"X_valid: {X_valid.shape} - Y_valid: {Y_valid.shape}\")"
   ]
  },
  {
   "cell_type": "code",
   "execution_count": 6,
   "metadata": {},
   "outputs": [
    {
     "name": "stdout",
     "output_type": "stream",
     "text": [
      "WARNING:tensorflow:From /Users/sergio.dorado/miniconda3/envs/sd_dev_tf_1/lib/python3.7/site-packages/tensorflow_core/python/ops/resource_variable_ops.py:1630: calling BaseResourceVariable.__init__ (from tensorflow.python.ops.resource_variable_ops) with constraint is deprecated and will be removed in a future version.\n",
      "Instructions for updating:\n",
      "If using Keras pass *_constraint arguments to layers.\n",
      "Model: \"sequential\"\n",
      "_________________________________________________________________\n",
      "Layer (type)                 Output Shape              Param #   \n",
      "=================================================================\n",
      "rnn (RNN)                    (None, 200, 212)          167145    \n",
      "_________________________________________________________________\n",
      "time_distributed (TimeDistri (None, 200, 3)            639       \n",
      "=================================================================\n",
      "Total params: 167,784\n",
      "Trainable params: 101,474\n",
      "Non-trainable params: 66,310\n",
      "_________________________________________________________________\n"
     ]
    }
   ],
   "source": [
    "# Setting seed\n",
    "seed = 42\n",
    "tf.random.set_random_seed(seed)\n",
    "np.random.seed(seed)\n",
    "\n",
    "model = Sequential()\n",
    "\n",
    "\n",
    "# This is the line of code that changes\n",
    "model.add(RNN(OrthogonalCell(units = 212,\n",
    "                             order = 256,\n",
    "                             variant = \"ct_laguerre\",\n",
    "                             dt = dt,\n",
    "                            input_dims = X_train.shape[-1]), \n",
    "              input_shape = (X_train.shape[1], X_train.shape[-1]),\n",
    "             return_sequences = True))\n",
    "model.add(TimeDistributed(Dense(3)))\n",
    "# does not make sense to use metrics=['acc'], see https://stackoverflow.com/questions/41819457/zero-accuracy-training-a-neural-network-in-keras\n",
    "model.compile(optimizer = 'adam', loss = 'mean_squared_error', metrics=['mse'])\n",
    "\n",
    "model.summary()"
   ]
  },
  {
   "cell_type": "code",
   "execution_count": 7,
   "metadata": {},
   "outputs": [
    {
     "name": "stdout",
     "output_type": "stream",
     "text": [
      "Train on 72 samples, validate on 10 samples\n",
      "72/72 [==============================] - 1s 13ms/sample - loss: 0.1297 - mean_squared_error: 0.1297 - val_loss: 0.0380 - val_mean_squared_error: 0.0380\n"
     ]
    }
   ],
   "source": [
    "model_dir = os.path.abspath('sysid_test_laguerre')\n",
    "\n",
    "if not os.path.exists(model_dir):\n",
    "    os.mkdir(model_dir)\n",
    "    \n",
    "# Setting seed\n",
    "seed = 42\n",
    "tf.random.set_random_seed(seed)\n",
    "np.random.seed(seed)\n",
    "\n",
    "file_path = os.path.join(model_dir, 'Laguerre_Model_SysID.hdf5') \n",
    "callbacks = [ModelCheckpoint(filepath = file_path, monitor = 'val_loss', save_best_only = True, mode = 'min', verbose = 0),\n",
    " EarlyStopping(monitor = 'val_loss', patience = 500, mode = 'min'),\n",
    " ReduceLROnPlateau(monitor = 'val_loss', factor = 0.5, patience = 50, min_lr = 0.0001)]\n",
    "\n",
    "hist = model.fit(X_train, Y_train, \n",
    "                 epochs = 1, batch_size = 20, \n",
    "                 callbacks = callbacks, \n",
    "                 validation_data = (X_valid, Y_valid),\n",
    "                 verbose = 1)"
   ]
  },
  {
   "cell_type": "code",
   "execution_count": 10,
   "metadata": {},
   "outputs": [
    {
     "data": {
      "text/plain": [
       "0.061904046684503555"
      ]
     },
     "execution_count": 10,
     "metadata": {},
     "output_type": "execute_result"
    }
   ],
   "source": [
    "mse"
   ]
  },
  {
   "cell_type": "code",
   "execution_count": 8,
   "metadata": {},
   "outputs": [],
   "source": [
    "df_results = pd.DataFrame(hist.history)\n",
    "\n",
    "# Computing epoch for best model\n",
    "epoch_best =  np.argmin(df_results['mean_squared_error'].values)\n",
    "# Determining MSE\n",
    "mse = df_results['mean_squared_error'][epoch_best]"
   ]
  },
  {
   "cell_type": "code",
   "execution_count": 9,
   "metadata": {},
   "outputs": [
    {
     "ename": "NameError",
     "evalue": "name 'Y_predict' is not defined",
     "output_type": "error",
     "traceback": [
      "\u001b[0;31m---------------------------------------------------------------------------\u001b[0m",
      "\u001b[0;31mNameError\u001b[0m                                 Traceback (most recent call last)",
      "\u001b[0;32m<ipython-input-9-85e0071cb05c>\u001b[0m in \u001b[0;36m<module>\u001b[0;34m\u001b[0m\n\u001b[1;32m      2\u001b[0m \u001b[0;34m\u001b[0m\u001b[0m\n\u001b[1;32m      3\u001b[0m \u001b[0maxes\u001b[0m\u001b[0;34m[\u001b[0m\u001b[0;36m0\u001b[0m\u001b[0;34m]\u001b[0m\u001b[0;34m[\u001b[0m\u001b[0;36m0\u001b[0m\u001b[0;34m]\u001b[0m\u001b[0;34m.\u001b[0m\u001b[0mplot\u001b[0m\u001b[0;34m(\u001b[0m\u001b[0mt\u001b[0m\u001b[0;34m,\u001b[0m \u001b[0mY_test\u001b[0m\u001b[0;34m[\u001b[0m\u001b[0;34m-\u001b[0m\u001b[0;36m1\u001b[0m\u001b[0;34m,\u001b[0m\u001b[0;34m:\u001b[0m\u001b[0;34m,\u001b[0m \u001b[0;36m0\u001b[0m\u001b[0;34m]\u001b[0m\u001b[0;34m,\u001b[0m \u001b[0mlabel\u001b[0m \u001b[0;34m=\u001b[0m \u001b[0;34m\"Ground Truth\"\u001b[0m\u001b[0;34m)\u001b[0m\u001b[0;34m\u001b[0m\u001b[0;34m\u001b[0m\u001b[0m\n\u001b[0;32m----> 4\u001b[0;31m \u001b[0maxes\u001b[0m\u001b[0;34m[\u001b[0m\u001b[0;36m0\u001b[0m\u001b[0;34m]\u001b[0m\u001b[0;34m[\u001b[0m\u001b[0;36m0\u001b[0m\u001b[0;34m]\u001b[0m\u001b[0;34m.\u001b[0m\u001b[0mplot\u001b[0m\u001b[0;34m(\u001b[0m\u001b[0mt\u001b[0m\u001b[0;34m,\u001b[0m \u001b[0mY_predict\u001b[0m\u001b[0;34m[\u001b[0m\u001b[0;34m-\u001b[0m\u001b[0;36m1\u001b[0m\u001b[0;34m,\u001b[0m\u001b[0;34m:\u001b[0m\u001b[0;34m,\u001b[0m\u001b[0;36m0\u001b[0m\u001b[0;34m]\u001b[0m\u001b[0;34m,\u001b[0m \u001b[0mlabel\u001b[0m \u001b[0;34m=\u001b[0m \u001b[0;34m\"Prediction\"\u001b[0m\u001b[0;34m)\u001b[0m\u001b[0;34m\u001b[0m\u001b[0;34m\u001b[0m\u001b[0m\n\u001b[0m\u001b[1;32m      5\u001b[0m \u001b[0maxes\u001b[0m\u001b[0;34m[\u001b[0m\u001b[0;36m0\u001b[0m\u001b[0;34m]\u001b[0m\u001b[0;34m[\u001b[0m\u001b[0;36m0\u001b[0m\u001b[0;34m]\u001b[0m\u001b[0;34m.\u001b[0m\u001b[0mlegend\u001b[0m\u001b[0;34m(\u001b[0m\u001b[0;34m)\u001b[0m\u001b[0;34m\u001b[0m\u001b[0;34m\u001b[0m\u001b[0m\n\u001b[1;32m      6\u001b[0m \u001b[0;34m\u001b[0m\u001b[0m\n",
      "\u001b[0;31mNameError\u001b[0m: name 'Y_predict' is not defined"
     ]
    },
    {
     "data": {
      "image/png": "[encoded data removed]",
      "text/plain": [
       "<Figure size 1080x720 with 6 Axes>"
      ]
     },
     "metadata": {
      "needs_background": "light"
     },
     "output_type": "display_data"
    }
   ],
   "source": [
    "fig, axes = plt.subplots(figsize = (15, 10), nrows = 2, ncols = 3)\n",
    "\n",
    "axes[0][0].plot(t, Y_test[-1,:, 0], label = \"Ground Truth\")\n",
    "axes[0][0].plot(t, Y_predict[-1,:,0], label = \"Prediction\")\n",
    "axes[0][0].legend()\n",
    "\n",
    "# State 2\n",
    "axes[0][1].plot(t, Y_test[0, :, 1], label = \"Ground Truth\")\n",
    "axes[0][1].plot(t, Y_predict[0,:,1], label = \"Prediction\")\n",
    "axes[0][1].legend()\n",
    "\n",
    "# State 3\n",
    "axes[0][2].plot(t, Y_test[-1, :, 2], label = \"Ground Truth\")\n",
    "axes[0][2].plot(t, Y_predict[-1,:,2], label = \"Prediction\")\n",
    "axes[0][2].legend()\n",
    "\n",
    "# Loss function\n",
    "axes[1][0].plot(epochs, loss, label = \"Loss\")\n",
    "axes[1][1].plot(epochs, val_loss, label = \"Validation Loss\")"
   ]
  },
  {
   "cell_type": "code",
   "execution_count": 10,
   "metadata": {},
   "outputs": [],
   "source": [
    "mu = 0.1\n",
    "omega = 1.0\n",
    "A = -0.1\n",
    "l = 10\n",
    "\n",
    "t = np.linspace(0, 60, 200)\n",
    "\n",
    "u = np.ones(t.shape[0], )\n",
    "x0 = np.random.rand(3, )\n",
    "\n",
    "Y = np.zeros(shape = (1, len(t), 3))\n",
    "Y[0, 0, :] = np.zeros(3, )\n",
    "\n",
    "for k in range(len(t) - 1):\n",
    "\n",
    "    # Integration time\n",
    "    t_int = np.linspace(t[k], t[k+1], 200)\n",
    "\n",
    "    # Integration\n",
    "    x_int = odeint(fluid_flow, x0, t_int, args = (u[k], mu, omega, A, l))\n",
    "\n",
    "    # Extracting the outputs\n",
    "    for state in range(x_int.shape[-1]):\n",
    "        Y[0, k+1, state] = x_int[-1, state]\n",
    "\n",
    "    # Updating initial condition for next integration\n",
    "    x0 = x_int[-1, :]"
   ]
  },
  {
   "cell_type": "code",
   "execution_count": 11,
   "metadata": {},
   "outputs": [
    {
     "data": {
      "text/plain": [
       "(1, 200, 3)"
      ]
     },
     "execution_count": 11,
     "metadata": {},
     "output_type": "execute_result"
    }
   ],
   "source": [
    "Y.shape"
   ]
  },
  {
   "cell_type": "code",
   "execution_count": 12,
   "metadata": {},
   "outputs": [],
   "source": [
    "t = np.linspace(0, 60, 200)\n",
    "\n",
    "#x0 = np.random.rand(2, )\n",
    "\n",
    "U_step = np.zeros(shape = (t.shape[0], 3))\n",
    "U_step[0,:] = x0\n",
    "\n",
    "U_step[1:, 0] = np.ones(shape = (t.shape[0]-1, ))\n",
    "U_step = np.reshape(U_step, [1, U_step.shape[0], U_step.shape[1]])\n",
    "\n",
    "# Computing step response\n",
    "Y_step_predict = model.predict(U_step)"
   ]
  },
  {
   "cell_type": "code",
   "execution_count": 111,
   "metadata": {},
   "outputs": [
    {
     "data": {
      "text/plain": [
       "(1, 200, 3)"
      ]
     },
     "execution_count": 111,
     "metadata": {},
     "output_type": "execute_result"
    }
   ],
   "source": [
    "Y.shape"
   ]
  },
  {
   "cell_type": "code",
   "execution_count": 109,
   "metadata": {},
   "outputs": [
    {
     "data": {
      "text/plain": [
       "[<matplotlib.lines.Line2D at 0x7efec854d090>]"
      ]
     },
     "execution_count": 109,
     "metadata": {},
     "output_type": "execute_result"
    },
    {
     "data": {
      "image/png": "[encoded data removed]",
      "text/plain": [
       "<Figure size 432x288 with 1 Axes>"
      ]
     },
     "metadata": {
      "needs_background": "light"
     },
     "output_type": "display_data"
    }
   ],
   "source": [
    "plt.plot(t, Y_step_predict[0,:,2])\n",
    "plt.plot(t, Y[0, :, 2])\n",
    "#plt.plot(t, Y_step_predict[0,:,1])\n"
   ]
  },
  {
   "cell_type": "code",
   "execution_count": null,
   "metadata": {},
   "outputs": [],
   "source": []
  }
 ],
 "metadata": {
  "kernelspec": {
   "display_name": "Python 3",
   "language": "python",
   "name": "python3"
  },
  "language_info": {
   "codemirror_mode": {
    "name": "ipython",
    "version": 3
   },
   "file_extension": ".py",
   "mimetype": "text/x-python",
   "name": "python",
   "nbconvert_exporter": "python",
   "pygments_lexer": "ipython3",
   "version": "3.7.7"
  }
 },
 "nbformat": 4,
 "nbformat_minor": 4
}
