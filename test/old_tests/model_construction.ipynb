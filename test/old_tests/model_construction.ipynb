{
 "cells": [
  {
   "cell_type": "code",
   "execution_count": 1,
   "metadata": {},
   "outputs": [],
   "source": [
    "from architectures_v1 import *\n",
    "from tensorflow.keras.models import Sequential\n",
    "from tensorflow.keras.layers import RNN"
   ]
  },
  {
   "cell_type": "code",
   "execution_count": 2,
   "metadata": {},
   "outputs": [
    {
     "name": "stdout",
     "output_type": "stream",
     "text": [
      "WARNING:tensorflow:From /Users/sergio.dorado/miniconda3/envs/sd_test_rnns/lib/python3.7/site-packages/tensorflow_core/python/ops/resource_variable_ops.py:1630: calling BaseResourceVariable.__init__ (from tensorflow.python.ops.resource_variable_ops) with constraint is deprecated and will be removed in a future version.\n",
      "Instructions for updating:\n",
      "If using Keras pass *_constraint arguments to layers.\n",
      "Model: \"sequential\"\n",
      "_________________________________________________________________\n",
      "Layer (type)                 Output Shape              Param #   \n",
      "=================================================================\n",
      "rnn (RNN)                    (None, 50)                5250      \n",
      "=================================================================\n",
      "Total params: 5,250\n",
      "Trainable params: 5,250\n",
      "Non-trainable params: 0\n",
      "_________________________________________________________________\n"
     ]
    }
   ],
   "source": [
    "model = Sequential()\n",
    "model.add(RNN(NeuromodulatedBistableRecurrentCellLayer(output_dim = 50), input_shape = (None, 1)))\n",
    "model.compile(optimizer = \"adam\", loss = \"mse\")\n",
    "model.summary()"
   ]
  },
  {
   "cell_type": "code",
   "execution_count": 3,
   "metadata": {},
   "outputs": [
    {
     "name": "stdout",
     "output_type": "stream",
     "text": [
      "Model: \"sequential_1\"\n",
      "_________________________________________________________________\n",
      "Layer (type)                 Output Shape              Param #   \n",
      "=================================================================\n",
      "rnn_1 (RNN)                  (None, 50)                350       \n",
      "=================================================================\n",
      "Total params: 350\n",
      "Trainable params: 350\n",
      "Non-trainable params: 0\n",
      "_________________________________________________________________\n"
     ]
    }
   ],
   "source": [
    "model = Sequential()\n",
    "model.add(RNN(BistableRecurrentCellLayer(output_dim = 50), input_shape = (None, 1)))\n",
    "model.compile(optimizer = \"adam\", loss = \"mse\")\n",
    "model.summary()"
   ]
  },
  {
   "cell_type": "code",
   "execution_count": 4,
   "metadata": {},
   "outputs": [
    {
     "name": "stdout",
     "output_type": "stream",
     "text": [
      "Model: \"sequential_2\"\n",
      "_________________________________________________________________\n",
      "Layer (type)                 Output Shape              Param #   \n",
      "=================================================================\n",
      "rnn_2 (RNN)                  (None, 212)               165689    \n",
      "=================================================================\n",
      "Total params: 165,689\n",
      "Trainable params: 99,897\n",
      "Non-trainable params: 65,792\n",
      "_________________________________________________________________\n"
     ]
    }
   ],
   "source": [
    "model = Sequential()\n",
    "model.add(RNN(LMUCell(units = 212,\n",
    "            order = 256,\n",
    "            theta = 784,\n",
    "            input_encoders_initializer=Constant(1),\n",
    "            hidden_encoders_initializer=Constant(0),\n",
    "            memory_encoders_initializer=Constant(0),\n",
    "            input_kernel_initializer=Constant(0),\n",
    "            hidden_kernel_initializer=Constant(0),\n",
    "            memory_kernel_initializer=\"glorot_normal\"), input_shape = (None, 1)))\n",
    "model.compile(optimizer = \"adam\", loss = \"mse\")\n",
    "model.summary()"
   ]
  },
  {
   "cell_type": "code",
   "execution_count": 5,
   "metadata": {},
   "outputs": [
    {
     "name": "stdout",
     "output_type": "stream",
     "text": [
      "Model: \"sequential_3\"\n",
      "_________________________________________________________________\n",
      "Layer (type)                 Output Shape              Param #   \n",
      "=================================================================\n",
      "rnn_3 (RNN)                  (None, 212)               165689    \n",
      "=================================================================\n",
      "Total params: 165,689\n",
      "Trainable params: 99,897\n",
      "Non-trainable params: 65,792\n",
      "_________________________________________________________________\n"
     ]
    }
   ],
   "source": [
    "model = Sequential()\n",
    "model.add(RNN(LMUCell_Modified(units = 212,\n",
    "            order = 256,\n",
    "            theta = 784,\n",
    "            input_encoders_initializer=Constant(1),\n",
    "            hidden_encoders_initializer=Constant(0),\n",
    "            memory_encoders_initializer=Constant(0),\n",
    "            input_kernel_initializer=Constant(0),\n",
    "            hidden_kernel_initializer=Constant(0),\n",
    "            memory_kernel_initializer=\"glorot_normal\"), input_shape = (None, 1)))\n",
    "model.compile(optimizer = \"adam\", loss = \"mse\")\n",
    "model.summary()"
   ]
  },
  {
   "cell_type": "code",
   "execution_count": null,
   "metadata": {},
   "outputs": [],
   "source": []
  }
 ],
 "metadata": {
  "kernelspec": {
   "display_name": "Python 3",
   "language": "python",
   "name": "python3"
  },
  "language_info": {
   "codemirror_mode": {
    "name": "ipython",
    "version": 3
   },
   "file_extension": ".py",
   "mimetype": "text/x-python",
   "name": "python",
   "nbconvert_exporter": "python",
   "pygments_lexer": "ipython3",
   "version": "3.7.7"
  }
 },
 "nbformat": 4,
 "nbformat_minor": 4
}
