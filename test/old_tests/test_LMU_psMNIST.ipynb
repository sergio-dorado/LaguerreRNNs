{
 "cells": [
  {
   "cell_type": "code",
   "execution_count": 1,
   "metadata": {},
   "outputs": [],
   "source": [
    "from architectures_v1 import *\n",
    "from tensorflow.keras.models import Sequential\n",
    "from tensorflow.keras.layers import Dense, RNN\n",
    "from tensorflow.keras.callbacks import EarlyStopping, ModelCheckpoint\n",
    "from tensorflow.keras.utils import to_categorical\n",
    "\n",
    "import os\n",
    "import numpy as np\n",
    "import tensorflow as tf\n",
    "import pandas as pd\n",
    "import time"
   ]
  },
  {
   "cell_type": "markdown",
   "metadata": {},
   "source": [
    "## Loading Training/Testing/Validation Data"
   ]
  },
  {
   "cell_type": "code",
   "execution_count": 6,
   "metadata": {},
   "outputs": [
    {
     "name": "stdout",
     "output_type": "stream",
     "text": [
      "x_train: (50000, 784, 1) - y_train: (50000,)\n",
      "x_test: (10000, 784, 1) - y_test: (10000,)\n",
      "x_valid: (10000, 784, 1) - y_valid: (10000,)\n"
     ]
    }
   ],
   "source": [
    "dataset = 'PMNIST'\n",
    "\n",
    "x_train_load = np.load(os.path.abspath(os.path.join('99_data',dataset,'x_train.npz')))\n",
    "x_test_load = np.load(os.path.abspath(os.path.join('99_data',dataset,'x_test.npz')))\n",
    "x_valid_load = np.load(os.path.abspath(os.path.join('99_data',dataset,'x_valid.npz')))\n",
    "\n",
    "x_train = x_train_load['arr_0']\n",
    "x_test = x_test_load['arr_0']\n",
    "x_valid = x_valid_load['arr_0']\n",
    "\n",
    "y_train_load = np.load(os.path.abspath(os.path.join('99_data',dataset,'y_train.npz')))\n",
    "y_test_load = np.load(os.path.abspath(os.path.join('99_data',dataset,'y_test.npz')))\n",
    "y_valid_load = np.load(os.path.abspath(os.path.join('99_data',dataset,'y_valid.npz')))\n",
    "\n",
    "y_train = y_train_load['arr_0']\n",
    "y_test = y_test_load['arr_0']\n",
    "y_valid = y_valid_load['arr_0']\n",
    "\n",
    "print(f\"x_train: {x_train.shape} - y_train: {y_train.shape}\")\n",
    "print(f\"x_test: {x_test.shape} - y_test: {y_test.shape}\")\n",
    "print(f\"x_valid: {x_valid.shape} - y_valid: {y_valid.shape}\")"
   ]
  },
  {
   "cell_type": "code",
   "execution_count": 7,
   "metadata": {},
   "outputs": [
    {
     "name": "stdout",
     "output_type": "stream",
     "text": [
      "Model: \"sequential_1\"\n",
      "_________________________________________________________________\n",
      "Layer (type)                 Output Shape              Param #   \n",
      "=================================================================\n",
      "rnn_1 (RNN)                  (None, 212)               165689    \n",
      "_________________________________________________________________\n",
      "dense_1 (Dense)              (None, 10)                2130      \n",
      "=================================================================\n",
      "Total params: 167,819\n",
      "Trainable params: 102,027\n",
      "Non-trainable params: 65,792\n",
      "_________________________________________________________________\n"
     ]
    }
   ],
   "source": [
    "seed = 0\n",
    "tf.random.set_random_seed(seed)\n",
    "np.random.seed(seed)\n",
    "\n",
    "length = x_train.shape[1]\n",
    "n_features = x_train.shape[-1]\n",
    "\n",
    "model = Sequential()\n",
    "\n",
    "model.add(RNN(LMUCell(units = 212,\n",
    "            order =256,\n",
    "            theta = length,\n",
    "            input_encoders_initializer = Constant(1),\n",
    "            hidden_encoders_initializer = Constant(0),\n",
    "            memory_encoders_initializer = Constant(0),\n",
    "            input_kernel_initializer = Constant(0),\n",
    "            hidden_kernel_initializer = Constant(0),\n",
    "            memory_kernel_initializer = \"glorot_normal\"), \n",
    "              input_shape = (length, n_features), return_sequences = False))\n",
    "model.add(Dense(10, activation = \"softmax\"))\n",
    "\n",
    "model.compile(optimizer = \"adam\", loss = \"categorical_crossentropy\", metrics = [\"accuracy\"])\n",
    "model.summary()"
   ]
  },
  {
   "cell_type": "code",
   "execution_count": 8,
   "metadata": {},
   "outputs": [
    {
     "name": "stdout",
     "output_type": "stream",
     "text": [
      "Train on 50000 samples, validate on 10000 samples\n",
      "Epoch 1/200\n",
      "49900/50000 [============================>.] - ETA: 0s - loss: 0.4499 - acc: 0.8683\n",
      "Epoch 00001: val_loss improved from inf to 0.31075, saving model to C:\\Users\\Sergio\\Documents\\GitHub_Repositories\\01_Maintained\\NeuralODE\\models\\PMNIST\\PMNIST-LMU.hdf5\n",
      "50000/50000 [==============================] - 212s 4ms/sample - loss: 0.4494 - acc: 0.8684 - val_loss: 0.3107 - val_acc: 0.9086\n",
      "Epoch 2/200\n",
      "49900/50000 [============================>.] - ETA: 0s - loss: 0.2552 - acc: 0.9231\n",
      "Epoch 00002: val_loss improved from 0.31075 to 0.20491, saving model to C:\\Users\\Sergio\\Documents\\GitHub_Repositories\\01_Maintained\\NeuralODE\\models\\PMNIST\\PMNIST-LMU.hdf5\n",
      "50000/50000 [==============================] - 212s 4ms/sample - loss: 0.2552 - acc: 0.9231 - val_loss: 0.2049 - val_acc: 0.9389\n",
      "Epoch 3/200\n",
      "49900/50000 [============================>.] - ETA: 0s - loss: 0.1713 - acc: 0.9479\n",
      "Epoch 00003: val_loss improved from 0.20491 to 0.16521, saving model to C:\\Users\\Sergio\\Documents\\GitHub_Repositories\\01_Maintained\\NeuralODE\\models\\PMNIST\\PMNIST-LMU.hdf5\n",
      "50000/50000 [==============================] - 214s 4ms/sample - loss: 0.1712 - acc: 0.9480 - val_loss: 0.1652 - val_acc: 0.9506\n",
      "Epoch 4/200\n",
      "49900/50000 [============================>.] - ETA: 0s - loss: 0.1246 - acc: 0.9614\n",
      "Epoch 00004: val_loss improved from 0.16521 to 0.13068, saving model to C:\\Users\\Sergio\\Documents\\GitHub_Repositories\\01_Maintained\\NeuralODE\\models\\PMNIST\\PMNIST-LMU.hdf5\n",
      "50000/50000 [==============================] - 211s 4ms/sample - loss: 0.1246 - acc: 0.9614 - val_loss: 0.1307 - val_acc: 0.9613\n",
      "Epoch 5/200\n",
      "49900/50000 [============================>.] - ETA: 0s - loss: 0.0976 - acc: 0.9698\n",
      "Epoch 00005: val_loss did not improve from 0.13068\n",
      "50000/50000 [==============================] - 212s 4ms/sample - loss: 0.0977 - acc: 0.9697 - val_loss: 0.1383 - val_acc: 0.9573\n",
      "Epoch 6/200\n",
      "49900/50000 [============================>.] - ETA: 0s - loss: 0.0784 - acc: 0.9755\n",
      "Epoch 00006: val_loss improved from 0.13068 to 0.12426, saving model to C:\\Users\\Sergio\\Documents\\GitHub_Repositories\\01_Maintained\\NeuralODE\\models\\PMNIST\\PMNIST-LMU.hdf5\n",
      "50000/50000 [==============================] - 216s 4ms/sample - loss: 0.0784 - acc: 0.9755 - val_loss: 0.1243 - val_acc: 0.9625\n",
      "Epoch 7/200\n",
      "49900/50000 [============================>.] - ETA: 0s - loss: 0.2103 - acc: 0.9353\n",
      "Epoch 00007: val_loss did not improve from 0.12426\n",
      "50000/50000 [==============================] - 209s 4ms/sample - loss: 0.2104 - acc: 0.9353 - val_loss: 0.2138 - val_acc: 0.9348\n",
      "Epoch 8/200\n",
      "49900/50000 [============================>.] - ETA: 0s - loss: 0.1342 - acc: 0.9577\n",
      "Epoch 00008: val_loss did not improve from 0.12426\n",
      "50000/50000 [==============================] - 214s 4ms/sample - loss: 0.1340 - acc: 0.9578 - val_loss: 0.1413 - val_acc: 0.9568\n",
      "Epoch 9/200\n",
      "49900/50000 [============================>.] - ETA: 0s - loss: 0.3919 - acc: 0.8823\n",
      "Epoch 00009: val_loss did not improve from 0.12426\n",
      "50000/50000 [==============================] - 210s 4ms/sample - loss: 0.3915 - acc: 0.8824 - val_loss: 0.2669 - val_acc: 0.9195\n",
      "Epoch 10/200\n",
      "49900/50000 [============================>.] - ETA: 0s - loss: 0.2035 - acc: 0.9402\n",
      "Epoch 00010: val_loss did not improve from 0.12426\n",
      "50000/50000 [==============================] - 210s 4ms/sample - loss: 0.2034 - acc: 0.9402 - val_loss: 0.2020 - val_acc: 0.9405\n",
      "Epoch 11/200\n",
      "49900/50000 [============================>.] - ETA: 0s - loss: 0.1536 - acc: 0.9559\n",
      "Epoch 00011: val_loss did not improve from 0.12426\n",
      "50000/50000 [==============================] - 210s 4ms/sample - loss: 0.1536 - acc: 0.9559 - val_loss: 0.1750 - val_acc: 0.9489\n",
      "Epoch 12/200\n",
      "49900/50000 [============================>.] - ETA: 0s - loss: 0.1275 - acc: 0.9628\n",
      "Epoch 00012: val_loss did not improve from 0.12426\n",
      "50000/50000 [==============================] - 212s 4ms/sample - loss: 0.1275 - acc: 0.9628 - val_loss: 0.1533 - val_acc: 0.9558\n",
      "Epoch 13/200\n",
      "49900/50000 [============================>.] - ETA: 0s - loss: 0.1106 - acc: 0.9682\n",
      "Epoch 00013: val_loss did not improve from 0.12426\n",
      "50000/50000 [==============================] - 210s 4ms/sample - loss: 0.1105 - acc: 0.9682 - val_loss: 0.1462 - val_acc: 0.9568\n",
      "Epoch 14/200\n",
      "49900/50000 [============================>.] - ETA: 0s - loss: 0.0954 - acc: 0.9722\n",
      "Epoch 00014: val_loss did not improve from 0.12426\n",
      "50000/50000 [==============================] - 210s 4ms/sample - loss: 0.0956 - acc: 0.9722 - val_loss: 0.1390 - val_acc: 0.9592\n",
      "Epoch 15/200\n",
      "49900/50000 [============================>.] - ETA: 0s - loss: 0.0857 - acc: 0.9741\n",
      "Epoch 00015: val_loss did not improve from 0.12426\n",
      "50000/50000 [==============================] - 210s 4ms/sample - loss: 0.0856 - acc: 0.9742 - val_loss: 0.1414 - val_acc: 0.9585\n",
      "Epoch 16/200\n",
      "49900/50000 [============================>.] - ETA: 0s - loss: 0.0747 - acc: 0.9774\n",
      "Epoch 00016: val_loss did not improve from 0.12426\n",
      "50000/50000 [==============================] - 209s 4ms/sample - loss: 0.0748 - acc: 0.9774 - val_loss: 0.1353 - val_acc: 0.9603\n",
      "Training time: 3383.253534555435 s\n"
     ]
    }
   ],
   "source": [
    "if not os.path.exists(os.path.abspath(os.path.join('models', dataset))):\n",
    "    os.mkdir(os.path.abspath(os.path.join('models', dataset)))\n",
    "\n",
    "file_path = os.path.abspath(os.path.join('models', dataset, f'{dataset}-LMU.hdf5'))\n",
    "\n",
    "callbacks = [\n",
    "    ModelCheckpoint(filepath=file_path, monitor='val_loss', save_best_only = True, mode = 'min', verbose = 1), \n",
    "    EarlyStopping(monitor = 'val_loss', patience = 10, mode = 'min')]\n",
    "\n",
    "t = time.time()\n",
    "\n",
    "result = model.fit(x_train, \n",
    "                   to_categorical(y_train),\n",
    "                   epochs = 200, \n",
    "                   batch_size = 100, \n",
    "                   validation_data = (x_valid, to_categorical(y_valid)), \n",
    "                   callbacks = callbacks)\n",
    "\n",
    "print(f\"Training time: {time.time() - t} s\")\n",
    "\n",
    "df_results = pd.DataFrame(result.history)\n",
    "df_results.to_csv(os.path.abspath(os.path.join('models', dataset, 'LMU_results.csv')))"
   ]
  },
  {
   "cell_type": "code",
   "execution_count": 3,
   "metadata": {},
   "outputs": [
    {
     "ename": "NameError",
     "evalue": "name 'model' is not defined",
     "output_type": "error",
     "traceback": [
      "\u001b[1;31m---------------------------------------------------------------------------\u001b[0m",
      "\u001b[1;31mNameError\u001b[0m                                 Traceback (most recent call last)",
      "\u001b[1;32m<ipython-input-3-4db659484bec>\u001b[0m in \u001b[0;36m<module>\u001b[1;34m\u001b[0m\n\u001b[1;32m----> 1\u001b[1;33m \u001b[0mmodel\u001b[0m\u001b[1;33m.\u001b[0m\u001b[0mload_weights\u001b[0m\u001b[1;33m(\u001b[0m\u001b[0mfile_path\u001b[0m\u001b[1;33m)\u001b[0m\u001b[1;33m\u001b[0m\u001b[1;33m\u001b[0m\u001b[0m\n\u001b[0m\u001b[0;32m      2\u001b[0m \u001b[0mmodel\u001b[0m\u001b[1;33m.\u001b[0m\u001b[0mevaluate\u001b[0m\u001b[1;33m(\u001b[0m\u001b[0mx_test\u001b[0m\u001b[1;33m,\u001b[0m \u001b[0mto_categorical\u001b[0m\u001b[1;33m(\u001b[0m\u001b[0my_test\u001b[0m\u001b[1;33m)\u001b[0m\u001b[1;33m)\u001b[0m\u001b[1;33m\u001b[0m\u001b[1;33m\u001b[0m\u001b[0m\n",
      "\u001b[1;31mNameError\u001b[0m: name 'model' is not defined"
     ]
    }
   ],
   "source": [
    "model.load_weights(file_path)\n",
    "model.evaluate(x_test, to_categorical(y_test))"
   ]
  }
 ],
 "metadata": {
  "kernelspec": {
   "display_name": "Python 3",
   "language": "python",
   "name": "python3"
  },
  "language_info": {
   "codemirror_mode": {
    "name": "ipython",
    "version": 3
   },
   "file_extension": ".py",
   "mimetype": "text/x-python",
   "name": "python",
   "nbconvert_exporter": "python",
   "pygments_lexer": "ipython3",
   "version": "3.7.7"
  }
 },
 "nbformat": 4,
 "nbformat_minor": 4
}
