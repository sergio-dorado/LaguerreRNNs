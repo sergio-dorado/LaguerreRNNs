{
 "cells": [
  {
   "cell_type": "markdown",
   "metadata": {},
   "source": [
    "## Creating Synthetic Training Data"
   ]
  },
  {
   "cell_type": "code",
   "execution_count": 5,
   "metadata": {},
   "outputs": [],
   "source": [
    "import numpy as np\n",
    "import tensorflow as tf\n",
    "import pandas as pd\n",
    "import matplotlib.pyplot as plt\n",
    "\n",
    "t = np.arange(0, 50, 0.1)\n",
    "y = np.sin(t)\n",
    "\n",
    "y_all = pd.DataFrame(y, index = t)\n",
    "\n",
    "# Splitting into training and testing data sets\n",
    "# 10% of the data for the\n",
    "test_split = 0.1\n",
    "test_index = int(len(y_all) - np.round(len(y_all)*test_split))\n",
    "\n",
    "train = y_all.iloc[:test_index]\n",
    "test = y_all.iloc[test_index:]"
   ]
  },
  {
   "cell_type": "code",
   "execution_count": 6,
   "metadata": {},
   "outputs": [],
   "source": [
    "from sklearn.preprocessing import MinMaxScaler\n",
    "scaler = MinMaxScaler();\n",
    "scaler.fit(train);\n",
    "scaled_train = scaler.transform(train)\n",
    "scaled_test = scaler.transform(test)"
   ]
  },
  {
   "cell_type": "code",
   "execution_count": 7,
   "metadata": {},
   "outputs": [],
   "source": [
    "from tensorflow.keras.preprocessing.sequence import TimeseriesGenerator\n",
    "# define generator\n",
    "length = 49 # Length of the output sequences (in number of timesteps)\n",
    "batch_size = 1 #Number of timeseries samples in each batch\n",
    "generator = TimeseriesGenerator(scaled_train, scaled_train, length=length, batch_size = batch_size)\n",
    "\n",
    "validation_generator = TimeseriesGenerator(scaled_test, scaled_test, length = length, batch_size = batch_size)"
   ]
  },
  {
   "cell_type": "code",
   "execution_count": 8,
   "metadata": {},
   "outputs": [],
   "source": [
    "from tensorflow.keras.models import Sequential\n",
    "from tensorflow.keras.layers import RNN, Dense, LSTM, LSTMCell\n",
    "from tensorflow.keras.callbacks import EarlyStopping\n",
    "from architectures_v1 import *"
   ]
  },
  {
   "cell_type": "code",
   "execution_count": 9,
   "metadata": {},
   "outputs": [
    {
     "name": "stdout",
     "output_type": "stream",
     "text": [
      "WARNING:tensorflow:From /Users/sergio.dorado/miniconda3/envs/sd_dev_tf_1/lib/python3.7/site-packages/tensorflow_core/python/ops/resource_variable_ops.py:1630: calling BaseResourceVariable.__init__ (from tensorflow.python.ops.resource_variable_ops) with constraint is deprecated and will be removed in a future version.\n",
      "Instructions for updating:\n",
      "If using Keras pass *_constraint arguments to layers.\n",
      "Model: \"sequential\"\n",
      "_________________________________________________________________\n",
      "Layer (type)                 Output Shape              Param #   \n",
      "=================================================================\n",
      "rnn (RNN)                    (None, 50)                2711      \n",
      "_________________________________________________________________\n",
      "dense (Dense)                (None, 1)                 51        \n",
      "=================================================================\n",
      "Total params: 2,762\n",
      "Trainable params: 2,754\n",
      "Non-trainable params: 8\n",
      "_________________________________________________________________\n",
      "Epoch 1/200\n",
      "398/401 [============================>.] - ETA: 0s - loss: 0.0256Epoch 1/200\n",
      "401/401 [==============================] - 8s 20ms/step - loss: 0.0254 - val_loss: 1.2914e-05\n",
      "Epoch 2/200\n",
      "399/401 [============================>.] - ETA: 0s - loss: 1.0848e-04Epoch 1/200\n",
      "401/401 [==============================] - 7s 18ms/step - loss: 1.0797e-04 - val_loss: 3.9143e-07\n",
      "Epoch 3/200\n",
      "400/401 [============================>.] - ETA: 0s - loss: 9.7419e-05Epoch 1/200\n",
      "401/401 [==============================] - 8s 19ms/step - loss: 9.7813e-05 - val_loss: 3.0230e-04\n",
      "Epoch 4/200\n",
      "398/401 [============================>.] - ETA: 0s - loss: 0.0011Epoch 1/200\n",
      "401/401 [==============================] - 8s 19ms/step - loss: 0.0010 - val_loss: 3.2942e-05\n"
     ]
    },
    {
     "data": {
      "text/plain": [
       "<tensorflow.python.keras.callbacks.History at 0x7fa96a86a690>"
      ]
     },
     "execution_count": 9,
     "metadata": {},
     "output_type": "execute_result"
    }
   ],
   "source": [
    "n_features = 1\n",
    "\n",
    "early_stop = EarlyStopping(monitor = 'val_loss', patience = 2)\n",
    "\n",
    "model = Sequential()\n",
    "model.add(RNN(OrthogonalCell(units = 50,\n",
    "                             variant = 'ct_laguerre',\n",
    "                             dt = 0.1,\n",
    "                            input_dims = 1) ,input_shape = (length, n_features)))\n",
    "#model.add(RNN(tf.keras.layers.LSTMCell(4), input_shape = (length, n_features)))\n",
    "\n",
    "# Final Prediction\n",
    "model.add(Dense(1))\n",
    "\n",
    "model.compile(optimizer='adam', loss='mse')\n",
    "\n",
    "model.summary()\n",
    "\n",
    "model.fit_generator(generator, epochs = 200, validation_data = validation_generator, callbacks = [early_stop])"
   ]
  },
  {
   "cell_type": "code",
   "execution_count": 10,
   "metadata": {},
   "outputs": [
    {
     "name": "stdout",
     "output_type": "stream",
     "text": [
      "Model: \"sequential_1\"\n",
      "_________________________________________________________________\n",
      "Layer (type)                 Output Shape              Param #   \n",
      "=================================================================\n",
      "rnn_1 (RNN)                  (None, 50)                10400     \n",
      "_________________________________________________________________\n",
      "dense_1 (Dense)              (None, 1)                 51        \n",
      "=================================================================\n",
      "Total params: 10,451\n",
      "Trainable params: 10,451\n",
      "Non-trainable params: 0\n",
      "_________________________________________________________________\n",
      "Epoch 1/200\n",
      "WARNING:tensorflow:From /Users/sergio.dorado/miniconda3/envs/sd_dev_tf_1/lib/python3.7/site-packages/tensorflow_core/python/ops/math_grad.py:1424: where (from tensorflow.python.ops.array_ops) is deprecated and will be removed in a future version.\n",
      "Instructions for updating:\n",
      "Use tf.where in 2.0, which has the same broadcast rule as np.where\n",
      "400/401 [============================>.] - ETA: 0s - loss: 0.0205Epoch 1/200\n",
      "401/401 [==============================] - 16s 40ms/step - loss: 0.0204 - val_loss: 1.0051e-04\n",
      "Epoch 2/200\n",
      "400/401 [============================>.] - ETA: 0s - loss: 3.8398e-05Epoch 1/200\n",
      "401/401 [==============================] - 17s 41ms/step - loss: 3.9644e-05 - val_loss: 5.2576e-07\n",
      "Epoch 3/200\n",
      "400/401 [============================>.] - ETA: 0s - loss: 9.8204e-05Epoch 1/200\n",
      "401/401 [==============================] - 17s 42ms/step - loss: 9.8387e-05 - val_loss: 3.7984e-05\n",
      "Epoch 4/200\n",
      "399/401 [============================>.] - ETA: 0s - loss: 6.0930e-05Epoch 1/200\n",
      "401/401 [==============================] - 17s 44ms/step - loss: 6.0628e-05 - val_loss: 5.9931e-06\n"
     ]
    },
    {
     "data": {
      "text/plain": [
       "<tensorflow.python.keras.callbacks.History at 0x7fa96c053710>"
      ]
     },
     "execution_count": 10,
     "metadata": {},
     "output_type": "execute_result"
    }
   ],
   "source": [
    "n_features = 1\n",
    "\n",
    "early_stop = EarlyStopping(monitor = 'val_loss', patience = 2)\n",
    "\n",
    "model_trad = Sequential()\n",
    "model_trad.add(RNN(tf.keras.layers.LSTMCell(units = 50), input_shape = (length, n_features)))\n",
    "#model.add(RNN(tf.keras.layers.LSTMCell(4), input_shape = (length, n_features)))\n",
    "\n",
    "# Final Prediction\n",
    "model_trad.add(Dense(1))\n",
    "\n",
    "model_trad.compile(optimizer='adam', loss='mse')\n",
    "\n",
    "model_trad.summary()\n",
    "\n",
    "model_trad.fit_generator(generator, epochs = 200, validation_data = validation_generator, callbacks = [early_stop])"
   ]
  },
  {
   "cell_type": "code",
   "execution_count": 12,
   "metadata": {},
   "outputs": [
    {
     "name": "stderr",
     "output_type": "stream",
     "text": [
      "/Users/sergio.dorado/miniconda3/envs/sd_dev_tf_1/lib/python3.7/site-packages/ipykernel_launcher.py:18: SettingWithCopyWarning: \n",
      "A value is trying to be set on a copy of a slice from a DataFrame.\n",
      "Try using .loc[row_indexer,col_indexer] = value instead\n",
      "\n",
      "See the caveats in the documentation: https://pandas.pydata.org/pandas-docs/stable/user_guide/indexing.html#returning-a-view-versus-a-copy\n",
      "/Users/sergio.dorado/miniconda3/envs/sd_dev_tf_1/lib/python3.7/site-packages/ipykernel_launcher.py:37: SettingWithCopyWarning: \n",
      "A value is trying to be set on a copy of a slice from a DataFrame.\n",
      "Try using .loc[row_indexer,col_indexer] = value instead\n",
      "\n",
      "See the caveats in the documentation: https://pandas.pydata.org/pandas-docs/stable/user_guide/indexing.html#returning-a-view-versus-a-copy\n"
     ]
    },
    {
     "data": {
      "text/plain": [
       "<matplotlib.axes._subplots.AxesSubplot at 0x7fa94dc50710>"
      ]
     },
     "execution_count": 12,
     "metadata": {},
     "output_type": "execute_result"
    },
    {
     "data": {
      "image/png": "[encoded data removed]",
      "text/plain": [
       "<Figure size 432x288 with 1 Axes>"
      ]
     },
     "metadata": {
      "needs_background": "light"
     },
     "output_type": "display_data"
    }
   ],
   "source": [
    "test_predictions = []\n",
    "\n",
    "first_eval_batch = scaled_train[-length:]\n",
    "current_batch = first_eval_batch.reshape((1, length, n_features))\n",
    "\n",
    "for _ in range(len(test)):\n",
    "    \n",
    "    # get prediction 1 time stamp ahead ([0] is for grabbing just the number instead of [array])\n",
    "    current_pred = model.predict(current_batch)[0]\n",
    "    \n",
    "    # store prediction\n",
    "    test_predictions.append(current_pred) \n",
    "    \n",
    "    # update batch to now include prediction and drop first value\n",
    "    current_batch = np.append(current_batch[:, 1: ,:],[[current_pred]], axis = 1)\n",
    "    \n",
    "true_predictions = scaler.inverse_transform(test_predictions)\n",
    "test['Laguerre'] = true_predictions\n",
    "\n",
    "test_predictions = []\n",
    "\n",
    "first_eval_batch = scaled_train[-length:]\n",
    "current_batch = first_eval_batch.reshape((1, length, n_features))\n",
    "\n",
    "for _ in range(len(test)):\n",
    "    \n",
    "    # get prediction 1 time stamp ahead ([0] is for grabbing just the number instead of [array])\n",
    "    current_pred = model_trad.predict(current_batch)[0]\n",
    "    \n",
    "    # store prediction\n",
    "    test_predictions.append(current_pred) \n",
    "    \n",
    "    # update batch to now include prediction and drop first value\n",
    "    current_batch = np.append(current_batch[:, 1: ,:],[[current_pred]], axis = 1)\n",
    "    \n",
    "true_predictions = scaler.inverse_transform(test_predictions)\n",
    "test['LSTM'] = true_predictions\n",
    "test.plot()"
   ]
  }
 ],
 "metadata": {
  "kernelspec": {
   "display_name": "Python 3",
   "language": "python",
   "name": "python3"
  },
  "language_info": {
   "codemirror_mode": {
    "name": "ipython",
    "version": 3
   },
   "file_extension": ".py",
   "mimetype": "text/x-python",
   "name": "python",
   "nbconvert_exporter": "python",
   "pygments_lexer": "ipython3",
   "version": "3.7.7"
  }
 },
 "nbformat": 4,
 "nbformat_minor": 4
}
